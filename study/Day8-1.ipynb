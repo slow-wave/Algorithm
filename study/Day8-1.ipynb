{
 "cells": [
  {
   "cell_type": "markdown",
   "metadata": {},
   "source": [
    "# 최소신장트리\n",
    "## 상근이의 여행\n",
    "https://www.acmicpc.net/problem/9372\n",
    "\n",
    "<input>\n",
    "2\n",
    "3 3\n",
    "1 2\n",
    "2 3\n",
    "1 3\n",
    "5 4\n",
    "2 1\n",
    "2 3\n",
    "4 3\n",
    "4 5\n",
    "\n",
    "<output>\n",
    "2\n",
    "4"
   ]
  },
  {
   "cell_type": "code",
   "execution_count": 54,
   "metadata": {},
   "outputs": [
    {
     "name": "stdout",
     "output_type": "stream",
     "text": [
      "2\n",
      "4\n"
     ]
    }
   ],
   "source": [
    "from collections import deque\n",
    "\n",
    "def bfs(graph,root):\n",
    "    queue = deque([root])\n",
    "    c = 0\n",
    "\n",
    "    while queue:\n",
    "        n = queue.popleft()\n",
    "\n",
    "        visited[n] = 1\n",
    "        for i in graph[n]:\n",
    "            if not visited[i]:\n",
    "                visited[i] = 1\n",
    "                queue.append(i)\n",
    "        c += 1\n",
    "\n",
    "    return c\n",
    "\n",
    "T = int(input())\n",
    "\n",
    "for _ in range(T):\n",
    "    N, M = map(int,input().split())\n",
    "    \n",
    "    graph = [[] for i in range(N+1)]\n",
    "    visited = [0 for i in range(N+1)]\n",
    "\n",
    "    for i in range(M):\n",
    "        a,b = map(int, input().split())\n",
    "\n",
    "        graph[a].append(b)\n",
    "        graph[b].append(a)\n",
    "\n",
    "    print(bfs(graph, 1)-1)"
   ]
  },
  {
   "cell_type": "code",
   "execution_count": 24,
   "metadata": {},
   "outputs": [
    {
     "name": "stdout",
     "output_type": "stream",
     "text": [
      "2\n"
     ]
    }
   ],
   "source": [
    "from collections import defaultdict\n",
    "from heapq import * \n",
    "\n",
    "def prim(first_node, edges):\n",
    "    mst = []\n",
    "\n",
    "    adjacent_edges = defaultdict(list)\n",
    "\n",
    "    for node1, node2 in edges:\n",
    "        adjacent_edges[node1].append((1, node1, node2))\n",
    "        adjacent_edges[node2].append((1, node2, node1))\n",
    "\n",
    "    connected = set(first_node)\n",
    "\n",
    "    candidated_edge = adjacent_edges[first_node]\n",
    "\n",
    "    # heapify(candidated_edge)\n",
    "\n",
    "    while candidated_edge:\n",
    "        weight, node1, node2 = heappop(candidated_edge)\n",
    "\n",
    "        if node2 not in connected:\n",
    "            connected.add(node2)\n",
    "            mst.append((weight, node1, node2))\n",
    "\n",
    "            for edge in adjacent_edges[node2]:\n",
    "                if edge[2] not in connected:\n",
    "                    heappush(candidated_edge, edge)\n",
    "    return mst\n",
    "\n",
    "T = int(input())\n",
    "\n",
    "for i in range(T):\n",
    "    edges = []\n",
    "\n",
    "    N,M = map(int, input().split())    \n",
    "\n",
    "    for _ in range(M):\n",
    "        a,b = input().split()\n",
    "        edges.append((a,b))\n",
    "\n",
    "    print(len(prim('1',edges)))"
   ]
  },
  {
   "cell_type": "code",
   "execution_count": 3,
   "metadata": {},
   "outputs": [
    {
     "name": "stdout",
     "output_type": "stream",
     "text": [
      "2\n",
      "4\n"
     ]
    }
   ],
   "source": [
    "#kruskal algorithm \n",
    "parent = dict()\n",
    "rank = dict()\n",
    "\n",
    "#vertice 초기화\n",
    "def make_set(vertice):\n",
    "    parent[vertice] = vertice\n",
    "    rank[vertice] = 0\n",
    "\n",
    "#해당 vertice의 최상위 정점을 찾는다\n",
    "def find(vertice):\n",
    "    if parent[vertice] != vertice:\n",
    "        parent[vertice] = find(parent[vertice])\n",
    "    return parent[vertice]\n",
    "\n",
    "#두 정점을 연결한다\n",
    "def union(vertice1, vertice2):\n",
    "    root1 = find(vertice1)\n",
    "    root2 = find(vertice2)\n",
    "    if root1 != root2:\n",
    "        if rank[root1] > rank[root2]:\n",
    "            parent[root2] = root1\n",
    "        else:\n",
    "            parent[root1] = root2\n",
    "            if rank[root1] == rank[root2]: \n",
    "                rank[root2] += 1\n",
    "\n",
    "def kruskal(graph):\n",
    "    minimum_spanning_tree = []\n",
    "\n",
    "    #초기화\n",
    "    for vertice in graph['vertices']:\n",
    "        make_set(vertice)\n",
    "        \n",
    "    #간선 weight 기반 sorting\n",
    "    edges = graph['edges']\n",
    "    edges.sort()\n",
    "    \n",
    "    #간선 연결 (사이클 없게)\n",
    "    for edge in edges:\n",
    "        weight, vertice1, vertice2 = edge\n",
    "        if find(vertice1) != find(vertice2):\n",
    "            union(vertice1, vertice2)\n",
    "            minimum_spanning_tree.append(edge)\n",
    "\t    \n",
    "    return minimum_spanning_tree\n",
    "\n",
    "\n",
    "T = int(input())\n",
    "\n",
    "for i in range(T):\n",
    "    graph = {}\n",
    "    edges = []\n",
    "\n",
    "    N,M = map(int, input().split())    \n",
    "\n",
    "    for _ in range(M):\n",
    "        a,b = map(int,input().split())\n",
    "        edges.append((1,a,b))\n",
    "        \n",
    "    graph['vertices'] = [i for i in range(1,N+1)]\n",
    "    graph['edges'] = edges\n",
    "\n",
    "    print(len(kruskal(graph)))"
   ]
  },
  {
   "cell_type": "markdown",
   "metadata": {},
   "source": [
    "## 최소스패닝트리\n",
    "https://www.acmicpc.net/problem/1197"
   ]
  },
  {
   "cell_type": "code",
   "execution_count": 10,
   "metadata": {},
   "outputs": [
    {
     "data": {
      "text/plain": [
       "3"
      ]
     },
     "execution_count": 10,
     "metadata": {},
     "output_type": "execute_result"
    }
   ],
   "source": [
    "#kruskal algorithm \n",
    "parent = dict()\n",
    "rank = dict()\n",
    "\n",
    "#vertice 초기화\n",
    "def make_set(vertice):\n",
    "    parent[vertice] = vertice\n",
    "    rank[vertice] = 0\n",
    "\n",
    "#해당 vertice의 최상위 정점을 찾는다\n",
    "def find(vertice):\n",
    "    if parent[vertice] != vertice:\n",
    "        parent[vertice] = find(parent[vertice])\n",
    "    return parent[vertice]\n",
    "\n",
    "#두 정점을 연결한다\n",
    "def union(vertice1, vertice2):\n",
    "    root1 = find(vertice1)\n",
    "    root2 = find(vertice2)\n",
    "    if root1 != root2:\n",
    "        if rank[root1] > rank[root2]:\n",
    "            parent[root2] = root1\n",
    "        else:\n",
    "            parent[root1] = root2\n",
    "            if rank[root1] == rank[root2]: \n",
    "                rank[root2] += 1\n",
    "\n",
    "def kruskal(graph):\n",
    "    minimum_spanning_tree = []\n",
    "\n",
    "    #초기화\n",
    "    for vertice in graph['vertices']:\n",
    "        make_set(vertice)\n",
    "        \n",
    "    #간선 weight 기반 sorting\n",
    "    edges = graph['edges']\n",
    "    edges.sort()\n",
    "    \n",
    "    #간선 연결 (사이클 없게)\n",
    "    for edge in edges:\n",
    "        weight, vertice1, vertice2 = edge\n",
    "        if find(vertice1) != find(vertice2):\n",
    "            union(vertice1, vertice2)\n",
    "            minimum_spanning_tree.append(edge)\n",
    "\t    \n",
    "    return minimum_spanning_tree\n",
    " \n",
    "graph = {}\n",
    "edges = []\n",
    "\n",
    "V,E = map(int, input().split())    \n",
    "\n",
    "for _ in range(E):\n",
    "    A,B,C = map(int,input().split())\n",
    "    edges.append((C,A,B))\n",
    "    \n",
    "graph['vertices'] = [i for i in range(1,V+1)]\n",
    "graph['edges'] = edges\n",
    "\n",
    "print(sum([p[0] for p in kruskal(graph)]))"
   ]
  },
  {
   "cell_type": "code",
   "execution_count": null,
   "metadata": {},
   "outputs": [],
   "source": [
    "3 3\n",
    "1 2 1\n",
    "2 3 2\n",
    "1 3 3"
   ]
  }
 ],
 "metadata": {
  "kernelspec": {
   "display_name": "Python 3.8.3 ('base')",
   "language": "python",
   "name": "python3"
  },
  "language_info": {
   "codemirror_mode": {
    "name": "ipython",
    "version": 3
   },
   "file_extension": ".py",
   "mimetype": "text/x-python",
   "name": "python",
   "nbconvert_exporter": "python",
   "pygments_lexer": "ipython3",
   "version": "3.8.3"
  },
  "orig_nbformat": 4,
  "vscode": {
   "interpreter": {
    "hash": "dcfd41fce1e84fe5854a6f55d82c3c14a68dcbcbf7bbebc76d7a18baf5e9f28d"
   }
  }
 },
 "nbformat": 4,
 "nbformat_minor": 2
}
