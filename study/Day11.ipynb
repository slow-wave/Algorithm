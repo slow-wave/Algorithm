{
 "cells": [
  {
   "cell_type": "markdown",
   "metadata": {},
   "source": [
    "## 더맵게\n",
    "https://school.programmers.co.kr/learn/courses/30/lessons/42626\n",
    "\n",
    "scoville\tK\treturn\n",
    "[1, 2, 3, 9, 10, 12]\t7\t2\n",
    "\n",
    "스코빌 = min + (min-2 * 2)"
   ]
  },
  {
   "cell_type": "code",
   "execution_count": 62,
   "metadata": {},
   "outputs": [],
   "source": [
    "import heapq\n",
    "\n",
    "def solution(scoville,K):\n",
    "    mix = 0\n",
    "    \n",
    "    hq = scoville\n",
    "    \n",
    "    heapq.heapify(hq) #minheap으로 만들기\n",
    "    \n",
    "    #스코빌 지수가 K 미만이고 heap의 크기가 2 이상인 동안 반복\n",
    "    while(hq[0] < K and len(hq) != 1):\n",
    "        heapq.heappush(hq,heapq.heappop(hq) + (heapq.heappop(hq)*2))\n",
    "        mix += 1\n",
    "    \n",
    "    #hq의 최소값이 K보다 작은 경우\n",
    "    if hq[0] < K: \n",
    "        return -1\n",
    "    else:    \n",
    "        return mix"
   ]
  },
  {
   "cell_type": "code",
   "execution_count": 63,
   "metadata": {},
   "outputs": [
    {
     "data": {
      "text/plain": [
       "2"
      ]
     },
     "execution_count": 63,
     "metadata": {},
     "output_type": "execute_result"
    }
   ],
   "source": [
    "scoville = [1, 2, 3, 9, 10, 12]\n",
    "K = 7\n",
    "\n",
    "solution(scoville,K)"
   ]
  },
  {
   "cell_type": "markdown",
   "metadata": {},
   "source": [
    "## 이중우선순위큐\n",
    "https://school.programmers.co.kr/learn/courses/30/lessons/42628\n",
    "\n",
    "[\"I 16\", \"I -5643\", \"D -1\", \"D 1\", \"D 1\", \"I 123\", \"D -1\"]\t[0,0]\n",
    "[\"I -45\", \"I 653\", \"D 1\", \"I -642\", \"I 45\", \"I 97\", \"D 1\", \"D -1\", \"I 333\"]\t[333, -45]\n",
    "\n",
    "명령어\t수신 탑(높이)\n",
    "I 숫자\t큐에 주어진 숫자를 삽입합니다.\n",
    "D 1\t큐에서 최댓값을 삭제합니다.\n",
    "D -1\t큐에서 최솟값을 삭제합니다."
   ]
  },
  {
   "cell_type": "code",
   "execution_count": 142,
   "metadata": {},
   "outputs": [],
   "source": [
    "import heapq\n",
    "\n",
    "def solution(operations):\n",
    "    min_hq = []\n",
    "    max_hq = []\n",
    "    heapq.heapify(min_hq)\n",
    "    heapq.heapify(max_hq)\n",
    "\n",
    "    for op in operations:\n",
    "        c = op.split(' ')[0]\n",
    "        n = int(op.split(' ')[1])\n",
    "        #insert\n",
    "        if c == 'I':\n",
    "            heapq.heappush(min_hq,n)\n",
    "            heapq.heappush(max_hq, (-n, n))\n",
    "        #최솟값 삭제\n",
    "        elif c == 'D' and n == -1:\n",
    "            if min_hq:\n",
    "                heapq.heappop(min_hq)\n",
    "                max_hq.pop() #max_hq에 있는 최소값 빼기\n",
    "        #최댓값 삭제\n",
    "        else:\n",
    "            if max_hq:\n",
    "                heapq.heappop(max_hq)[1]\n",
    "                min_hq.pop() #min_hq에 있는 최댓값 빼기\n",
    "\n",
    "    return [max_hq[0][1],min_hq[0]] if min_hq and max_hq else [0,0]\n"
   ]
  },
  {
   "cell_type": "code",
   "execution_count": 143,
   "metadata": {},
   "outputs": [
    {
     "data": {
      "text/plain": [
       "[333, -45]"
      ]
     },
     "execution_count": 143,
     "metadata": {},
     "output_type": "execute_result"
    }
   ],
   "source": [
    "# operations = [\"I 16\", \"I -5643\", \"D -1\", \"D 1\", \"D 1\", \"I 123\", \"D -1\"]\n",
    "operations = [\"I -45\", \"I 653\", \"D 1\", \"I -642\", \"I 45\", \"I 97\", \"D 1\", \"D -1\", \"I 333\"]\n",
    "# operations = [\"I -45\",\"D -1\",\"D -1\"]\n",
    "# operations = [\"I 1\", \"I 2\", \"I 3\", \"I 4\", \"I 5\", \"I 6\", \"I 7\", \"I 8\", \"I 9\", \"I 10\", \"D 1\", \"D -1\", \"D 1\", \"D -1\", \"I 1\", \"I 2\", \"I 3\", \"I 4\", \"I 5\", \"I 6\", \"I 7\", \"I 8\", \"I 9\", \"I 10\", \"D 1\", \"D -1\", \"D 1\", \"D -1\"]\n",
    "\n",
    "solution(operations)"
   ]
  }
 ],
 "metadata": {
  "kernelspec": {
   "display_name": "Python 3.8.3 ('base')",
   "language": "python",
   "name": "python3"
  },
  "language_info": {
   "codemirror_mode": {
    "name": "ipython",
    "version": 3
   },
   "file_extension": ".py",
   "mimetype": "text/x-python",
   "name": "python",
   "nbconvert_exporter": "python",
   "pygments_lexer": "ipython3",
   "version": "3.8.3"
  },
  "orig_nbformat": 4,
  "vscode": {
   "interpreter": {
    "hash": "dcfd41fce1e84fe5854a6f55d82c3c14a68dcbcbf7bbebc76d7a18baf5e9f28d"
   }
  }
 },
 "nbformat": 4,
 "nbformat_minor": 2
}
