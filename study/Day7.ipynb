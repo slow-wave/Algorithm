{
 "cells": [
  {
   "cell_type": "markdown",
   "metadata": {},
   "source": [
    "# 괄호 변환\n",
    "https://programmers.co.kr/learn/courses/30/lessons/60058\n",
    "\n",
    "p\t        result\n",
    "\"(()())()\"\t\"(()())()\"\n",
    "\")(\"\t      \"()\"\n",
    "\"()))((()\"\t\"()(())()\"\n",
    "\n",
    "1. 입력이 빈 문자열인 경우, 빈 문자열을 반환합니다. \n",
    "2. 문자열 w를 두 \"균형잡힌 괄호 문자열\" u, v로 분리합니다. 단, u는 \"균형잡힌 괄호 문자열\"로 더 이상 분리할 수 없어야 하며, v는 빈 문자열이 될 수 있습니다. \n",
    "3. 문자열 u가 \"올바른 괄호 문자열\" 이라면 문자열 v에 대해 1단계부터 다시 수행합니다. \n",
    "  3-1. 수행한 결과 문자열을 u에 이어 붙인 후 반환합니다. \n",
    "4. 문자열 u가 \"올바른 괄호 문자열\"이 아니라면 아래 과정을 수행합니다. \n",
    "  4-1. 빈 문자열에 첫 번째 문자로 '('를 붙입니다. \n",
    "  4-2. 문자열 v에 대해 1단계부터 재귀적으로 수행한 결과 문자열을 이어 붙입니다. \n",
    "  4-3. ')'를 다시 붙입니다. \n",
    "  4-4. u의 첫 번째와 마지막 문자를 제거하고, 나머지 문자열의 괄호 방향을 뒤집어서 뒤에 붙입니다. \n",
    "  4-5. 생성된 문자열을 반환합니다."
   ]
  },
  {
   "cell_type": "code",
   "execution_count": 18,
   "metadata": {},
   "outputs": [],
   "source": [
    "def solution(p):\n",
    "    if p == '':\n",
    "        return ''\n",
    "\n",
    "    answer = exec(p)\n",
    "    return answer\n",
    "\n",
    "#처음 등장하는 균형잡힌 문자열을 u로 나머지를 v로 지정\n",
    "def seperate_uv(p):\n",
    "    left, right = 0, 0\n",
    "    for i in range(len(p)):\n",
    "        if p[i] == '(':\n",
    "            left += 1\n",
    "        else:\n",
    "            right += 1\n",
    "        if left == right:\n",
    "            u = p[:i+1]\n",
    "\n",
    "            if i+1 < len(p):\n",
    "                v = p[i+1:] \n",
    "            else: \n",
    "                v = \"\"\n",
    "\n",
    "            break\n",
    "    return u, v\n",
    "\n",
    "#균형잡힌 괄호 문자열인지 확인\n",
    "def isCorrect(p):\n",
    "    stack = []\n",
    "\n",
    "    for i in p:\n",
    "        if i == '(':\n",
    "            stack.append(i)\n",
    "        else:\n",
    "            if not stack:\n",
    "                return False\n",
    "\n",
    "            if stack[-1] == '(':\n",
    "                stack.pop()\n",
    "        if stack:\n",
    "            return True\n",
    "        return False\n",
    "\n",
    "def exec(p):\n",
    "    result = \"\"\n",
    "    if not p: \n",
    "        return \"\"\n",
    "    \n",
    "    u,v = seperate_uv(p)\n",
    "    #균형잡힌 문자열이라면\n",
    "    if isCorrect(u):\n",
    "        result = u + exec(v)\n",
    "    #균형잡힌 문자열이 아니라면\n",
    "    else:\n",
    "        tmp = \"(\"\n",
    "        tmp += exec(v) #재귀적으로 수행한 결과 문자열을 이어 붙임\n",
    "        tmp += \")\"\n",
    "        u = u[1:-1] #u의 첫 번째와 마지막 문자를 제거\n",
    "        #나머지 문자열의 괄호 방향을 뒤집어서 뒤에 붙임\n",
    "        for c in u:\n",
    "            if c == '(':\n",
    "                tmp+=')'\n",
    "            else:\n",
    "                tmp+='('\n",
    "        result += tmp\n",
    "    return result"
   ]
  },
  {
   "cell_type": "code",
   "execution_count": 19,
   "metadata": {},
   "outputs": [
    {
     "data": {
      "text/plain": [
       "'()(())()'"
      ]
     },
     "execution_count": 19,
     "metadata": {},
     "output_type": "execute_result"
    }
   ],
   "source": [
    "s = \"()))((()\"\n",
    "solution(s)"
   ]
  },
  {
   "cell_type": "markdown",
   "metadata": {},
   "source": [
    "# 1로 만들기\n",
    "https://www.acmicpc.net/problem/1463\n",
    "\n",
    "X가 3으로 나누어 떨어지면, 3으로 나눈다.\n",
    "X가 2로 나누어 떨어지면, 2로 나눈다.\n",
    "1을 뺀다.\n",
    "\n",
    "<input>\n",
    "10\n",
    "<output>\n",
    "3"
   ]
  },
  {
   "cell_type": "code",
   "execution_count": null,
   "metadata": {},
   "outputs": [],
   "source": [
    "n = int(input())\n",
    "#0으로 초기화\n",
    "dp = [0] * (n+1)\n",
    "\n",
    "for i in range(2, n+1):\n",
    "    #1을 빼주는 경우\n",
    "    dp[i] = dp[i-1] + 1\n",
    "\n",
    "    if i % 2 == 0:\n",
    "        #1을 빼주는 경우 vs. 나눈 값 + 1 \n",
    "        dp[i] = min(dp[i], dp[i//2] + 1)\n",
    "    if i % 3 == 0:\n",
    "        dp[i] = min(dp[i], dp[i//3] + 1)\n",
    "\n",
    "print(dp[n])"
   ]
  },
  {
   "cell_type": "code",
   "execution_count": 7,
   "metadata": {},
   "outputs": [
    {
     "data": {
      "text/plain": [
       "1"
      ]
     },
     "execution_count": 7,
     "metadata": {},
     "output_type": "execute_result"
    }
   ],
   "source": [
    "from collections import deque\n",
    "\n",
    "def bfs():\n",
    "    while queue:\n",
    "        d,n = queue.popleft()\n",
    "\n",
    "        if n == 1:\n",
    "            return d\n",
    "\n",
    "        d += 1\n",
    "        if n % 2 ==0:\n",
    "            queue.append([d, n/2])\n",
    "        \n",
    "        if n % 3 ==0:\n",
    "            queue.append([d, n/3])\n",
    "        \n",
    "        queue.append([d,n-1])\n",
    "\n",
    "X =int(input())\n",
    "d = 0\n",
    "queue = deque([[d,X]])\n",
    "\n",
    "bfs()"
   ]
  },
  {
   "cell_type": "markdown",
   "metadata": {},
   "source": [
    "# 일곱난쟁이\n",
    "https://www.acmicpc.net/problem/2309\n",
    "\n",
    "<input>\n",
    "20\n",
    "7\n",
    "23\n",
    "19\n",
    "10\n",
    "15\n",
    "25\n",
    "8\n",
    "13\n",
    "\n",
    "<output>\n",
    "7\n",
    "8\n",
    "10\n",
    "13\n",
    "19\n",
    "20\n",
    "23"
   ]
  },
  {
   "cell_type": "code",
   "execution_count": 2,
   "metadata": {},
   "outputs": [
    {
     "name": "stdout",
     "output_type": "stream",
     "text": [
      "7\n",
      "8\n",
      "10\n",
      "13\n",
      "19\n",
      "20\n",
      "23\n"
     ]
    }
   ],
   "source": [
    "def find(height):\n",
    "    for i in range(8):\n",
    "        for j in range(i,8):\n",
    "            n1,n2 = height[i], height[j+1]\n",
    "            if sum(height) - n1 - n2 == 100:\n",
    "                height.remove(n1)\n",
    "                height.remove(n2)\n",
    "                height.sort()\n",
    "                return height\n",
    "\n",
    "height = []\n",
    "\n",
    "for i in range(9):\n",
    "    h = int(input())\n",
    "    height.append(h)\n",
    "\n",
    "answer = find(height)\n",
    "\n",
    "print(*answer, sep = \"\\n\")\n"
   ]
  },
  {
   "cell_type": "markdown",
   "metadata": {},
   "source": [
    "# 가장 긴 증가하는 부분 수열\n",
    "https://www.acmicpc.net/problem/11053\n",
    "\n",
    "A = {10, 20, 10, 30, 20, 50} 이고, 길이는 4이다."
   ]
  },
  {
   "cell_type": "code",
   "execution_count": null,
   "metadata": {},
   "outputs": [],
   "source": [
    "# n = int(input())\n",
    "# array = list(map(int,input().split()))\n",
    "array = [10, 20, 10, 30, 20, 50]\n",
    "n = 6\n",
    "\n",
    "dp = [1]*n #dp 배열을 1로 초기화\n",
    "\n",
    "for i in range(n) :\n",
    "    for j in range(i) :\n",
    "        #현재 위치가 이전 원소보다 작은지 확인\n",
    "        if array[i] > array[j] :\n",
    "            #현재 i에 저장된 부분 수열의 길이와 이전 수까지의 부분수열의 길이+1 둘 중 긴 것 선택\n",
    "            dp[i] = max(dp[i],dp[j]+1)\n",
    "\n",
    "print(max(dp))"
   ]
  }
 ],
 "metadata": {
  "kernelspec": {
   "display_name": "Python 3.8.3 ('base')",
   "language": "python",
   "name": "python3"
  },
  "language_info": {
   "codemirror_mode": {
    "name": "ipython",
    "version": 3
   },
   "file_extension": ".py",
   "mimetype": "text/x-python",
   "name": "python",
   "nbconvert_exporter": "python",
   "pygments_lexer": "ipython3",
   "version": "3.8.3"
  },
  "orig_nbformat": 4,
  "vscode": {
   "interpreter": {
    "hash": "dcfd41fce1e84fe5854a6f55d82c3c14a68dcbcbf7bbebc76d7a18baf5e9f28d"
   }
  }
 },
 "nbformat": 4,
 "nbformat_minor": 2
}
