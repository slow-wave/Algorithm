{
 "cells": [
  {
   "cell_type": "markdown",
   "metadata": {},
   "source": [
    "# Day5"
   ]
  },
  {
   "cell_type": "markdown",
   "metadata": {},
   "source": [
    "## 비밀지도\n",
    "https://programmers.co.kr/learn/courses/30/lessons/17681\n",
    "\n",
    "매개변수\t값\n",
    "n\t5\n",
    "arr1\t[9, 20, 28, 18, 11]\n",
    "arr2\t[30, 1, 21, 17, 28]\n",
    "출력\t[\"#####\",\"# # #\", \"### #\", \"# ##\", \"#####\"]"
   ]
  },
  {
   "cell_type": "code",
   "execution_count": 12,
   "metadata": {},
   "outputs": [],
   "source": [
    "def solution(n, arr1, arr2):\n",
    "    answer = []\n",
    "\n",
    "    for i in range(n):\n",
    "        #각 리스트의 원소들을 이진법으로 변환\n",
    "        a1 = format(arr1[i], 'b')\n",
    "        a2 = format(arr2[i], 'b')\n",
    "        #자릿수(n)만큼 0으로 채우기\n",
    "        if len(a1) != n:\n",
    "            a1 = (n - len(a1)) * '0' + a1\n",
    "\n",
    "        if len(a2) != n:\n",
    "            a2 = (n - len(a2)) * '0' + a2\n",
    "        #최종 지도의 row 초기화\n",
    "        row = ''\n",
    "\n",
    "        for j in range(n):\n",
    "            #만약 지도1과 지도2 둘 중의 하나라도 벽(1)이라면 벽으로 판단함\n",
    "            if a1[j] == '1' or a2[j] == '1':\n",
    "                row += '#'\n",
    "            else:\n",
    "                row += ' '\n",
    "        answer.append(row)\n",
    "    return answer\n"
   ]
  },
  {
   "cell_type": "code",
   "execution_count": 13,
   "metadata": {},
   "outputs": [
    {
     "data": {
      "text/plain": [
       "['#####', '# # #', '### #', '#  ##', '#####']"
      ]
     },
     "execution_count": 13,
     "metadata": {},
     "output_type": "execute_result"
    }
   ],
   "source": [
    "n = 5\n",
    "arr1 = [9, 20, 28, 18, 11]\n",
    "arr2 = [30, 1, 21, 17, 28]\n",
    "\n",
    "solution(n,arr1,arr2)"
   ]
  },
  {
   "cell_type": "markdown",
   "metadata": {},
   "source": [
    "## Hashing\n",
    "https://www.acmicpc.net/problem/15829\n",
    "\n",
    "<input>\n",
    "5\n",
    "abcde\n",
    "\n",
    "<output>\n",
    "4739715"
   ]
  },
  {
   "cell_type": "code",
   "execution_count": 13,
   "metadata": {},
   "outputs": [
    {
     "name": "stdout",
     "output_type": "stream",
     "text": [
      "9\n"
     ]
    }
   ],
   "source": [
    "n = int(input())\n",
    "s = input()\n",
    "hash = 0\n",
    "\n",
    "for i,c in enumerate(s):\n",
    "    hash += (ord(c)-96) * 31 ** i\n",
    "\n",
    "print(hash % 1234567891)"
   ]
  },
  {
   "cell_type": "markdown",
   "metadata": {},
   "source": [
    "## N 과 M 시리즈 15649~\n",
    "https://www.acmicpc.net/problemset?search=N%EA%B3%BC+M"
   ]
  },
  {
   "cell_type": "markdown",
   "metadata": {},
   "source": [
    "## 완주하지 못한 선수\n",
    "https://programmers.co.kr/learn/courses/30/lessons/42576\n",
    "\n",
    "participant\tcompletion\treturn\n",
    "[\"leo\", \"kiki\", \"eden\"]\t[\"eden\", \"kiki\"]\t\"leo\""
   ]
  },
  {
   "cell_type": "code",
   "execution_count": 29,
   "metadata": {},
   "outputs": [],
   "source": [
    "from collections import Counter\n",
    "\n",
    "def solution(participant, completion):\n",
    "    return set(Counter(participant) - Counter(completion)).pop()"
   ]
  },
  {
   "cell_type": "code",
   "execution_count": 30,
   "metadata": {},
   "outputs": [
    {
     "data": {
      "text/plain": [
       "'leo'"
      ]
     },
     "execution_count": 30,
     "metadata": {},
     "output_type": "execute_result"
    }
   ],
   "source": [
    "participant = [\"leo\", \"kiki\", \"eden\"]\n",
    "completion = [\"eden\", \"kiki\"]\n",
    "\n",
    "# participant = [\"mislav\", \"stanko\", \"mislav\", \"ana\"]\n",
    "# completion = [\"stanko\", \"ana\", \"mislav\"]\n",
    "\n",
    "solution(participant, completion)"
   ]
  }
 ],
 "metadata": {
  "kernelspec": {
   "display_name": "Python 3.8.3 ('base')",
   "language": "python",
   "name": "python3"
  },
  "language_info": {
   "codemirror_mode": {
    "name": "ipython",
    "version": 3
   },
   "file_extension": ".py",
   "mimetype": "text/x-python",
   "name": "python",
   "nbconvert_exporter": "python",
   "pygments_lexer": "ipython3",
   "version": "3.8.3"
  },
  "orig_nbformat": 4,
  "vscode": {
   "interpreter": {
    "hash": "dcfd41fce1e84fe5854a6f55d82c3c14a68dcbcbf7bbebc76d7a18baf5e9f28d"
   }
  }
 },
 "nbformat": 4,
 "nbformat_minor": 2
}
