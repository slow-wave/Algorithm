{
 "cells": [
  {
   "cell_type": "markdown",
   "metadata": {},
   "source": [
    "체육복\n",
    "https://school.programmers.co.kr/learn/courses/30/lessons/42862"
   ]
  },
  {
   "cell_type": "code",
   "execution_count": null,
   "metadata": {},
   "outputs": [],
   "source": [
    "\n",
    "def solution(n, lost, reserve):\n",
    "    #여벌 체육복을 가진 학생이 도난을 당한 경우, 남은 체육복이 하나이기 때문에 빌려줄 수 없다.\n",
    "    # -> 미리 제외시킴.\n",
    "    _reserve = list(set(reserve) - set(lost))\n",
    "    _lost = list(set(lost) - set(reserve))\n",
    "\n",
    "    for r in _reserve:\n",
    "        #빌려줄 수 있는지 확인\n",
    "        f = r - 1\n",
    "        b = r + 1\n",
    "\n",
    "        if f in _lost:\n",
    "            _lost.remove(f)\n",
    "\n",
    "        elif b in _lost:\n",
    "            _lost.remove(b)\n",
    "\n",
    "    return n - len(_lost)"
   ]
  },
  {
   "cell_type": "markdown",
   "metadata": {},
   "source": [
    "회의실 배정\n",
    "https://www.acmicpc.net/problem/1931"
   ]
  },
  {
   "cell_type": "code",
   "execution_count": 19,
   "metadata": {},
   "outputs": [
    {
     "name": "stdout",
     "output_type": "stream",
     "text": [
      "[(0, 6), (1, 4), (2, 13), (3, 5), (3, 8), (5, 7), (5, 9), (6, 10), (8, 11), (8, 12), (12, 14)]\n"
     ]
    }
   ],
   "source": [
    "N = 11\n",
    "\n",
    "room = [(1,4),(3,5),(0,6),(5,7),(3,8),(5,9),(6,10),(8,11),(8,12),(2,13),(12,14)]\n",
    "room.sort()\n",
    "print(room)"
   ]
  },
  {
   "cell_type": "code",
   "execution_count": 40,
   "metadata": {},
   "outputs": [
    {
     "name": "stdout",
     "output_type": "stream",
     "text": [
      "[(0, 6), (1, 4), (2, 13), (3, 5), (3, 8), (5, 7), (5, 9), (6, 10), (8, 11), (8, 12), (12, 14)]\n",
      "[(1, 4), (3, 5), (0, 6), (5, 7), (3, 8), (5, 9), (6, 10), (8, 11), (8, 12), (2, 13), (12, 14)]\n"
     ]
    }
   ],
   "source": [
    "room = [(1,4),(3,5),(0,6),(5,7),(3,8),(5,9),(6,10),(8,11),(8,12),(2,13),(12,14)]\n",
    "\n",
    "room.sort(key = lambda x: x[0])\n",
    "print(room)\n",
    "room.sort(key = lambda x: x[1])\n",
    "print(room)"
   ]
  },
  {
   "cell_type": "code",
   "execution_count": 37,
   "metadata": {},
   "outputs": [
    {
     "name": "stdout",
     "output_type": "stream",
     "text": [
      "4\n"
     ]
    }
   ],
   "source": [
    "# import sys\n",
    "# input = sys.stdin.readline\n",
    "n = int(input())\n",
    "room = []\n",
    "\n",
    "for i in range(n):\n",
    "    room.append(tuple(map(int,input().split())))\n",
    "\n",
    "max = 0\n",
    "room.sort(key = lambda x: x[0])\n",
    "room.sort(key = lambda x: x[1])\n",
    "\n",
    "for i in range(len(room)):\n",
    "    c = 0\n",
    "    target = room[i]\n",
    "    for j in range(i,len(room)):\n",
    "        start = room[j]\n",
    "        \n",
    "        if target[1] <= start[0]:\n",
    "            c += 1\n",
    "            target = start\n",
    "        \n",
    "    if max <= c:\n",
    "        max = c\n",
    "\n",
    "print(max+1)"
   ]
  },
  {
   "cell_type": "code",
   "execution_count": 38,
   "metadata": {},
   "outputs": [
    {
     "name": "stdout",
     "output_type": "stream",
     "text": [
      "4\n"
     ]
    }
   ],
   "source": [
    "# import sys\n",
    "# input = sys.stdin.readline\n",
    "n = int(input())\n",
    "room = []\n",
    "c = 0\n",
    "\n",
    "for i in range(n):\n",
    "    room.append(tuple(map(int,input().split())))\n",
    "\n",
    "#가장 많은 회의가 열리기위해서는 종료 시간이 빨라야함. \n",
    "room.sort(key = lambda x: x[0])\n",
    "room.sort(key = lambda x: x[1])\n",
    "\n",
    "target = room[0][1]\n",
    "\n",
    "for i in range(1,len(room)):\n",
    "    if room[i][0] >= target:\n",
    "        c += 1\n",
    "        target = room[i][1]\n",
    "\n",
    "print(c+1)"
   ]
  }
 ],
 "metadata": {
  "kernelspec": {
   "display_name": "Python 3.8.3 ('base')",
   "language": "python",
   "name": "python3"
  },
  "language_info": {
   "codemirror_mode": {
    "name": "ipython",
    "version": 3
   },
   "file_extension": ".py",
   "mimetype": "text/x-python",
   "name": "python",
   "nbconvert_exporter": "python",
   "pygments_lexer": "ipython3",
   "version": "3.8.3"
  },
  "orig_nbformat": 4,
  "vscode": {
   "interpreter": {
    "hash": "dcfd41fce1e84fe5854a6f55d82c3c14a68dcbcbf7bbebc76d7a18baf5e9f28d"
   }
  }
 },
 "nbformat": 4,
 "nbformat_minor": 2
}
