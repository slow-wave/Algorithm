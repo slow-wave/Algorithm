{
 "cells": [
  {
   "cell_type": "markdown",
   "metadata": {},
   "source": [
    "1753. 최단경로\n",
    "https://www.acmicpc.net/problem/1753"
   ]
  },
  {
   "cell_type": "code",
   "execution_count": null,
   "metadata": {},
   "outputs": [],
   "source": [
    "# import sys\n",
    "# input = sys.stdin.readline\n",
    "import heapq\n",
    "\n",
    "def Dijkstra(start):\n",
    "    heap = []\n",
    "    \n",
    "    distance[start] = 0\n",
    "    heapq.heappush(heap,(0, start)) #시작 노드부터 탐색\n",
    "\n",
    "    while heap:\n",
    "        cur_w, cur_node = heapq.heappop(heap)\n",
    "        #기존의 노드보다 거리가 크다면 continue\n",
    "        if distance[cur_node] < cur_w:\n",
    "            continue\n",
    "        #cur_node의 인접 노드 살펴보기\n",
    "        for new_w, next_node in graph[cur_node]:\n",
    "            #인접 노드까지의 거리 계산\n",
    "            next_w = new_w + cur_w\n",
    "            #기존의 거리보다 작다면 작은 값으로 update\n",
    "            if next_w < distance[next_node]:\n",
    "                distance[next_node] = next_w\n",
    "                heapq.heappush(heap,(next_w,next_node))\n",
    "                \n",
    "INF = float('inf')\n",
    "V, E = map(int, input().split())\n",
    "\n",
    "K = int(input())\n",
    "distance = [INF]*(V+1) #start로부터의 거리 값 저장하는 배열\n",
    "graph = [[] for _ in range(V + 1)]\n",
    "\n",
    "#그래프 생성\n",
    "for _ in range(E):\n",
    "    u, v, w = map(int, input().split())\n",
    "    graph[u].append((w, v))\n",
    "\n",
    "Dijkstra(K)\n",
    "\n",
    "for i in range(1,V+1):\n",
    "    print(\"INF\" if distance[i] == INF else distance[i])\n"
   ]
  },
  {
   "cell_type": "markdown",
   "metadata": {},
   "source": [
    "1916. 최소비용구하기\n",
    "https://www.acmicpc.net/problem/1916"
   ]
  },
  {
   "cell_type": "code",
   "execution_count": null,
   "metadata": {},
   "outputs": [],
   "source": [
    "# import sys\n",
    "# input = sys.stdin.readline\n",
    "import heapq\n",
    "\n",
    "def Dijkstra(start):\n",
    "    heap = []\n",
    "    \n",
    "    distance[start] = 0\n",
    "    heapq.heappush(heap,(0, start)) #시작 노드부터 탐색\n",
    "\n",
    "    while heap:\n",
    "        cur_w, cur_node = heapq.heappop(heap)\n",
    "        #기존의 노드보다 거리가 크다면 continue\n",
    "        if distance[cur_node] < cur_w:\n",
    "            continue\n",
    "        #cur_node의 인접 노드 살펴보기\n",
    "        for new_w, next_node in graph[cur_node]:\n",
    "            #인접 노드까지의 거리 계산\n",
    "            next_w = new_w + cur_w\n",
    "            #기존의 거리보다 작다면 작은 값으로 update\n",
    "            if next_w < distance[next_node]:\n",
    "                distance[next_node] = next_w\n",
    "                heapq.heappush(heap,(next_w,next_node))\n",
    "\n",
    "INF = float('inf')\n",
    "V = int(input())\n",
    "E = int(input())\n",
    "\n",
    "#가중치 테이블 dp\n",
    "distance = [INF]*(V+1) #start로부터의 거리 값 저장하는 배열\n",
    "graph = [[] for _ in range(V + 1)]\n",
    "\n",
    "for _ in range(E):\n",
    "    u, v, w = map(int, input().split())\n",
    "    graph[u].append((w, v))\n",
    "\n",
    "K,D = map(int,input().split())\n",
    "\n",
    "Dijkstra(K)\n",
    "\n",
    "print(distance[D])"
   ]
  }
 ],
 "metadata": {
  "kernelspec": {
   "display_name": "Python 3.8.3 ('base')",
   "language": "python",
   "name": "python3"
  },
  "language_info": {
   "name": "python",
   "version": "3.8.3"
  },
  "orig_nbformat": 4,
  "vscode": {
   "interpreter": {
    "hash": "dcfd41fce1e84fe5854a6f55d82c3c14a68dcbcbf7bbebc76d7a18baf5e9f28d"
   }
  }
 },
 "nbformat": 4,
 "nbformat_minor": 2
}
