{
 "cells": [
  {
   "cell_type": "markdown",
   "metadata": {},
   "source": [
    "5585. 거스름돈\n",
    "https://www.acmicpc.net/problem/5585\n",
    "\n",
    "타로는 자주 JOI잡화점에서 물건을 산다. JOI잡화점에는 잔돈으로 500엔, 100엔, 50엔, 10엔, 5엔, 1엔이 충분히 있고, 언제나 거스름돈 개수가 가장 적게 잔돈을 준다. 타로가 JOI잡화점에서 물건을 사고 카운터에서 1000엔 지폐를 한장 냈을 때, 받을 잔돈에 포함된 잔돈의 개수를 구하는 프로그램을 작성하시오.\n",
    "\n",
    "380 4\n",
    "1 15"
   ]
  },
  {
   "cell_type": "code",
   "execution_count": 10,
   "metadata": {},
   "outputs": [
    {
     "name": "stdout",
     "output_type": "stream",
     "text": [
      "4\n"
     ]
    }
   ],
   "source": [
    "remain = (1000-int(input()))\n",
    "count = 0\n",
    "\n",
    "coins = [500, 100, 50, 10, 5, 1]\n",
    "\n",
    "for coin in coins:\n",
    "    count += remain // coin\n",
    "    remain %= coin\n",
    "\n",
    "print(count)"
   ]
  },
  {
   "cell_type": "markdown",
   "metadata": {},
   "source": [
    "10162. 전자레인지\n",
    "https://www.acmicpc.net/problem/10162\n",
    "\n",
    "<input>\n",
    "100\n",
    "<output>\n",
    "0 1 4\n",
    "\n",
    "A:5M / B:1M / C:10S"
   ]
  },
  {
   "cell_type": "code",
   "execution_count": 17,
   "metadata": {},
   "outputs": [
    {
     "name": "stdout",
     "output_type": "stream",
     "text": [
      "0 1 4\n"
     ]
    }
   ],
   "source": [
    "time = int(input())\n",
    "buttons = [5*60, 1*60, 10]\n",
    "count = []\n",
    "\n",
    "for button in buttons:\n",
    "    count.append(time // button)\n",
    "    time %= button\n",
    "\n",
    "if time:\n",
    "    print(-1)\n",
    "else:\n",
    "    print(*count)"
   ]
  }
 ],
 "metadata": {
  "kernelspec": {
   "display_name": "Python 3.8.3 ('base')",
   "language": "python",
   "name": "python3"
  },
  "language_info": {
   "codemirror_mode": {
    "name": "ipython",
    "version": 3
   },
   "file_extension": ".py",
   "mimetype": "text/x-python",
   "name": "python",
   "nbconvert_exporter": "python",
   "pygments_lexer": "ipython3",
   "version": "3.8.3"
  },
  "orig_nbformat": 4,
  "vscode": {
   "interpreter": {
    "hash": "dcfd41fce1e84fe5854a6f55d82c3c14a68dcbcbf7bbebc76d7a18baf5e9f28d"
   }
  }
 },
 "nbformat": 4,
 "nbformat_minor": 2
}
