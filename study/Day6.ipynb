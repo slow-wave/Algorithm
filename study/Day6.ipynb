{
 "cells": [
  {
   "cell_type": "markdown",
   "metadata": {},
   "source": [
    "## 1) 이진수 변환\n",
    "https://www.acmicpc.net/problem/10829\n",
    "\n",
    "<input>\n",
    "55\n",
    "<output>\n",
    "110101"
   ]
  },
  {
   "cell_type": "code",
   "execution_count": 2,
   "metadata": {},
   "outputs": [
    {
     "name": "stdout",
     "output_type": "stream",
     "text": [
      "110111\n"
     ]
    }
   ],
   "source": [
    "n = int(input())\n",
    "\n",
    "print(format(n, 'b'))"
   ]
  },
  {
   "cell_type": "markdown",
   "metadata": {},
   "source": [
    "## 2) 전화번호 목록\n",
    "https://programmers.co.kr/learn/courses/30/lessons/42577\n",
    "\n",
    "phone_book\treturn\n",
    "[\"119\", \"97674223\", \"1195524421\"]\tfalse\n",
    "[\"123\",\"456\",\"789\"]\ttrue\n",
    "[\"12\",\"123\",\"1235\",\"567\",\"88\"]\tfalse"
   ]
  },
  {
   "cell_type": "code",
   "execution_count": 9,
   "metadata": {},
   "outputs": [
    {
     "name": "stdout",
     "output_type": "stream",
     "text": [
      "['119', '1195524421', '97674223']\n",
      "['123', '456', '789']\n"
     ]
    }
   ],
   "source": [
    "p1 = [\"119\", \"97674223\", \"1195524421\"]\n",
    "p2 = [\"123\",\"456\",\"789\"]\n",
    "\n",
    "p1.sort()\n",
    "print(p1)\n",
    "\n",
    "p2.sort()\n",
    "print(p2)"
   ]
  },
  {
   "cell_type": "code",
   "execution_count": null,
   "metadata": {},
   "outputs": [],
   "source": [
    "def solution(phone_book):\n",
    "    if len(phone_book) == 1:\n",
    "        return False\n",
    "\n",
    "    phone_book.sort()\n",
    "    \n",
    "    for i, target in enumerate(phone_book):\n",
    "        hash_map = {}\n",
    "\n",
    "        if i == len(phone_book)-1:\n",
    "            break\n",
    "        #다음 인덱스에 있는 번호를 check 대상으로 설정\n",
    "        check = phone_book[i+1]\n",
    "        hash_map[check[:len(target)]] = check\n",
    "        \n",
    "        if target in hash_map:\n",
    "            return False\n",
    "    return True"
   ]
  },
  {
   "cell_type": "code",
   "execution_count": 16,
   "metadata": {},
   "outputs": [
    {
     "name": "stdout",
     "output_type": "stream",
     "text": [
      "['119', '97674223', '1195524421']\n"
     ]
    },
    {
     "data": {
      "text/plain": [
       "False"
      ]
     },
     "execution_count": 16,
     "metadata": {},
     "output_type": "execute_result"
    }
   ],
   "source": [
    "solution(p1)"
   ]
  },
  {
   "cell_type": "markdown",
   "metadata": {},
   "source": [
    "## 3) 팩토리얼\n",
    "https://www.acmicpc.net/problem/10872\n",
    "\n",
    "<input>\n",
    "10\n",
    "\n",
    "<output>\n",
    "3628800"
   ]
  },
  {
   "cell_type": "code",
   "execution_count": 7,
   "metadata": {},
   "outputs": [
    {
     "name": "stdout",
     "output_type": "stream",
     "text": [
      "1\n"
     ]
    }
   ],
   "source": [
    "n = int(input())\n",
    "answer = 1\n",
    "\n",
    "for i in range(1,n+1):\n",
    "    answer *= i\n",
    "print(answer)"
   ]
  },
  {
   "cell_type": "markdown",
   "metadata": {},
   "source": [
    "## 4) 암호만들기\n",
    "https://www.acmicpc.net/problem/1759\n",
    "최소 한 개의 모음(a, e, i, o, u)과 최소 두 개의 자음으로 구성되어 있다고 알려져 있다. \n",
    "\n",
    "<input>\n",
    "4 6\n",
    "a t c i s w\n",
    "\n",
    "<output>\n",
    "acis\n",
    "acit\n",
    "aciw\n",
    "acst\n",
    "acsw\n",
    "actw\n",
    "aist\n",
    "aisw\n",
    "aitw\n",
    "astw\n",
    "cist\n",
    "cisw\n",
    "citw\n",
    "istw"
   ]
  },
  {
   "cell_type": "code",
   "execution_count": null,
   "metadata": {},
   "outputs": [],
   "source": [
    "from itertools import combinations\n",
    "\n",
    "vowels = ['a', 'e', 'i', 'o', 'u']\n",
    "\n",
    "L, C = map(int, input().split())\n",
    "key = list(map(str, input().split()))\n",
    "\n",
    "key.sort()\n",
    "\n",
    "comb = combinations(key, L)\n",
    "\n",
    "for k in comb:\n",
    "    v,c = 0,0\n",
    "    for i in range(L):\n",
    "        if k[i] in vowels:\n",
    "            v += 1\n",
    "        else:\n",
    "            c += 1\n",
    "    if v>=1 and c>=2:\n",
    "        print(''.join(k))\n"
   ]
  }
 ],
 "metadata": {
  "kernelspec": {
   "display_name": "Python 2.7.15 64-bit ('base')",
   "language": "python",
   "name": "python3"
  },
  "language_info": {
   "codemirror_mode": {
    "name": "ipython",
    "version": 2
   },
   "file_extension": ".py",
   "mimetype": "text/x-python",
   "name": "python",
   "nbconvert_exporter": "python",
   "pygments_lexer": "ipython2",
   "version": "2.7.15"
  },
  "orig_nbformat": 4,
  "vscode": {
   "interpreter": {
    "hash": "ef0497087e669191c701b18d8cfeceeb554d531867bf344bad9437c84bc356c1"
   }
  }
 },
 "nbformat": 4,
 "nbformat_minor": 2
}
