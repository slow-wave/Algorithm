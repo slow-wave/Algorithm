{
 "cells": [
  {
   "cell_type": "markdown",
   "metadata": {},
   "source": [
    "## 1) 이진수 변환\n",
    "https://www.acmicpc.net/problem/10829\n",
    "\n",
    "<input>\n",
    "55\n",
    "<output>\n",
    "110101"
   ]
  },
  {
   "cell_type": "code",
   "execution_count": 2,
   "metadata": {},
   "outputs": [
    {
     "name": "stdout",
     "output_type": "stream",
     "text": [
      "110111\n"
     ]
    }
   ],
   "source": [
    "n = int(input())\n",
    "\n",
    "print(format(n, 'b'))"
   ]
  },
  {
   "cell_type": "markdown",
   "metadata": {},
   "source": [
    "## 2) 전화번호 목록\n",
    "https://programmers.co.kr/learn/courses/30/lessons/42577"
   ]
  },
  {
   "cell_type": "code",
   "execution_count": null,
   "metadata": {},
   "outputs": [],
   "source": [
    "def solution(phone_book):\n",
    "    if len(phone_book) == 1:\n",
    "        return False\n",
    "    \n",
    "    phone_book = sorted(phone_book, key=lambda x: len(x))\n",
    "    answer = True\n",
    "    for i, phone1 in enumerate(phone_book):\n",
    "        hash_map = {}\n",
    "        for phone2 in phone_book[i+1:]:\n",
    "            hash_map[phone2[:len(phone1)]] = phone2\n",
    "        if phone1 in hash_map:\n",
    "            answer = False\n",
    "            break\n",
    "    return answer"
   ]
  },
  {
   "cell_type": "markdown",
   "metadata": {},
   "source": [
    "## 3) 팩토리얼\n",
    "https://www.acmicpc.net/problem/10872\n",
    "\n",
    "<input>\n",
    "10\n",
    "\n",
    "<output>\n",
    "3628800"
   ]
  },
  {
   "cell_type": "code",
   "execution_count": 7,
   "metadata": {},
   "outputs": [
    {
     "name": "stdout",
     "output_type": "stream",
     "text": [
      "1\n"
     ]
    }
   ],
   "source": [
    "n = int(input())\n",
    "answer = 1\n",
    "\n",
    "for i in range(1,n+1):\n",
    "    answer *= i\n",
    "print(answer)"
   ]
  },
  {
   "cell_type": "markdown",
   "metadata": {},
   "source": [
    "## 4) 암호만들기\n",
    "https://www.acmicpc.net/problem/1759\n",
    "\n",
    "<input>\n",
    "4 6\n",
    "a t c i s w\n",
    "\n",
    "<output>\n",
    "acis\n",
    "acit\n",
    "aciw\n",
    "acst\n",
    "acsw\n",
    "actw\n",
    "aist\n",
    "aisw\n",
    "aitw\n",
    "astw\n",
    "cist\n",
    "cisw\n",
    "citw\n",
    "istw"
   ]
  },
  {
   "cell_type": "code",
   "execution_count": null,
   "metadata": {},
   "outputs": [],
   "source": [
    "from itertools import permutations\n",
    "\n",
    "# N,M = map(int,input().split())  \n",
    "N,M = 4,6\n",
    "\n",
    "items = ['a', 't','c', 'i', 's', 'w']"
   ]
  }
 ],
 "metadata": {
  "kernelspec": {
   "display_name": "Python 2.7.15 64-bit ('base')",
   "language": "python",
   "name": "python3"
  },
  "language_info": {
   "codemirror_mode": {
    "name": "ipython",
    "version": 2
   },
   "file_extension": ".py",
   "mimetype": "text/x-python",
   "name": "python",
   "nbconvert_exporter": "python",
   "pygments_lexer": "ipython2",
   "version": "2.7.15"
  },
  "orig_nbformat": 4,
  "vscode": {
   "interpreter": {
    "hash": "ef0497087e669191c701b18d8cfeceeb554d531867bf344bad9437c84bc356c1"
   }
  }
 },
 "nbformat": 4,
 "nbformat_minor": 2
}
