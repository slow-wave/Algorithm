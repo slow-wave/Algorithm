{
 "cells": [
  {
   "cell_type": "markdown",
   "metadata": {},
   "source": [
    "## [1] 순위\n",
    "https://school.programmers.co.kr/learn/courses/30/lessons/49191\n"
   ]
  },
  {
   "cell_type": "code",
   "execution_count": null,
   "metadata": {},
   "outputs": [],
   "source": []
  },
  {
   "cell_type": "markdown",
   "metadata": {},
   "source": [
    "## [2] 팩토리얼 진법\n",
    "https://www.acmicpc.net/problem/5692\n",
    "\n",
    "<input>\n",
    "719\n",
    "1\n",
    "15\n",
    "110\n",
    "102\n",
    "0\n",
    "\n",
    "<output>\n",
    "53\n",
    "1\n",
    "7\n",
    "8\n",
    "8"
   ]
  },
  {
   "cell_type": "code",
   "execution_count": 22,
   "metadata": {},
   "outputs": [
    {
     "name": "stdout",
     "output_type": "stream",
     "text": [
      "54\n",
      "1\n",
      "7\n",
      "0\n",
      "9\n",
      "8\n"
     ]
    }
   ],
   "source": [
    "while True:\n",
    "    n = input()\n",
    "    if n == str(0):\n",
    "        break\n",
    "    \n",
    "    result,f = 0,1\n",
    "    \n",
    "    for i in range(len(n)):\n",
    "        f *= (i+1)\n",
    "\n",
    "    for i,a in enumerate(n):\n",
    "        if i > 0:\n",
    "            f /= (i+1)\n",
    "        result += int(a)*f\n",
    "    print(int(result))"
   ]
  },
  {
   "cell_type": "markdown",
   "metadata": {},
   "source": [
    "## [3] 가장 먼 노드\n",
    "https://school.programmers.co.kr/learn/courses/30/lessons/49189\n"
   ]
  },
  {
   "cell_type": "code",
   "execution_count": null,
   "metadata": {},
   "outputs": [],
   "source": []
  },
  {
   "cell_type": "markdown",
   "metadata": {},
   "source": [
    "## [4] 진법 변환\n",
    "https://www.acmicpc.net/problem/2745\n",
    "\n",
    "<input>\n",
    "ZZZZZ 36\n",
    "\n",
    "<output>\n",
    "60466175"
   ]
  },
  {
   "cell_type": "code",
   "execution_count": 2,
   "metadata": {},
   "outputs": [
    {
     "name": "stdout",
     "output_type": "stream",
     "text": [
      "ZZZZZ 36\n",
      "60466175\n"
     ]
    }
   ],
   "source": [
    "def solution(n, q):\n",
    "    rev_base = ''\n",
    "\n",
    "    while n > 0:\n",
    "        n, mod = divmod(n, q)\n",
    "        rev_base += str(mod)\n",
    "\n",
    "    return rev_base[::-1] \n",
    "    \n",
    "s,n = map(str,input().split())\n",
    "print(solution(int(s,int(n)),10)) "
   ]
  }
 ],
 "metadata": {
  "kernelspec": {
   "display_name": "Python 3.8.3 ('base')",
   "language": "python",
   "name": "python3"
  },
  "language_info": {
   "codemirror_mode": {
    "name": "ipython",
    "version": 3
   },
   "file_extension": ".py",
   "mimetype": "text/x-python",
   "name": "python",
   "nbconvert_exporter": "python",
   "pygments_lexer": "ipython3",
   "version": "3.8.3"
  },
  "orig_nbformat": 4,
  "vscode": {
   "interpreter": {
    "hash": "dcfd41fce1e84fe5854a6f55d82c3c14a68dcbcbf7bbebc76d7a18baf5e9f28d"
   }
  }
 },
 "nbformat": 4,
 "nbformat_minor": 2
}
