{
 "cells": [
  {
   "cell_type": "markdown",
   "metadata": {},
   "source": [
    "## [1] 순위\n",
    "https://school.programmers.co.kr/learn/courses/30/lessons/49191\n"
   ]
  },
  {
   "cell_type": "code",
   "execution_count": 42,
   "metadata": {},
   "outputs": [],
   "source": [
    "n = 5\n",
    "results = [[4, 3], [4, 2], [3, 2], [1, 2], [2, 5]]"
   ]
  },
  {
   "cell_type": "code",
   "execution_count": 43,
   "metadata": {},
   "outputs": [],
   "source": [
    "def dfs(graph):\n",
    "    #1~N번 노드에 대해서\n",
    "    for target in range(1,n+1):\n",
    "        #target 노드가 이긴 노드들을 담음\n",
    "        stack = [i for i, rst in enumerate(graph[target]) if rst == 1]\n",
    "        \n",
    "        while stack:\n",
    "            lose = stack.pop()\n",
    "\n",
    "            for i, rst in enumerate(graph[lose]):\n",
    "                # a > b and b > c 면 a > c 임으로 이를 표시함.\n",
    "                if not graph[target][i] and rst == 1:\n",
    "                    graph[target][i], graph[i][target] = 1, -1\n",
    "                    stack.append(i)\n",
    "        print(target,graph)\n",
    "    return graph\n",
    "\n",
    "def solution(n,results):\n",
    "    answer = 0\n",
    "    #승패를 기록하는 graph 생성\n",
    "    graph = [[0]*(n+1) for _ in range(n+1)]\n",
    "    \n",
    "    #승패 기록\n",
    "    for win, lose in results:\n",
    "        graph[win][lose] = 1\n",
    "        graph[lose][win] = -1\n",
    "    \n",
    "    graph = dfs(graph)\n",
    "\n",
    "    for i in range(1,n+1):\n",
    "        #자기 자신을 제외하고 모든 노드에 승패 표시가 되어있다면\n",
    "        if graph[i][1:].count(0) == 1:\n",
    "            answer += 1 \n",
    "    return answer"
   ]
  },
  {
   "cell_type": "code",
   "execution_count": 44,
   "metadata": {},
   "outputs": [
    {
     "name": "stdout",
     "output_type": "stream",
     "text": [
      "1 [[0, 0, 0, 0, 0, 0], [0, 0, 1, 0, 0, 1], [0, -1, 0, -1, -1, 1], [0, 0, 1, 0, -1, 0], [0, 0, 1, 1, 0, 0], [0, -1, -1, 0, 0, 0]]\n",
      "2 [[0, 0, 0, 0, 0, 0], [0, 0, 1, 0, 0, 1], [0, -1, 0, -1, -1, 1], [0, 0, 1, 0, -1, 0], [0, 0, 1, 1, 0, 0], [0, -1, -1, 0, 0, 0]]\n",
      "3 [[0, 0, 0, 0, 0, 0], [0, 0, 1, 0, 0, 1], [0, -1, 0, -1, -1, 1], [0, 0, 1, 0, -1, 1], [0, 0, 1, 1, 0, 0], [0, -1, -1, -1, 0, 0]]\n",
      "4 [[0, 0, 0, 0, 0, 0], [0, 0, 1, 0, 0, 1], [0, -1, 0, -1, -1, 1], [0, 0, 1, 0, -1, 1], [0, 0, 1, 1, 0, 1], [0, -1, -1, -1, -1, 0]]\n",
      "5 [[0, 0, 0, 0, 0, 0], [0, 0, 1, 0, 0, 1], [0, -1, 0, -1, -1, 1], [0, 0, 1, 0, -1, 1], [0, 0, 1, 1, 0, 1], [0, -1, -1, -1, -1, 0]]\n"
     ]
    },
    {
     "data": {
      "text/plain": [
       "2"
      ]
     },
     "execution_count": 44,
     "metadata": {},
     "output_type": "execute_result"
    }
   ],
   "source": [
    "solution(n,results)"
   ]
  },
  {
   "cell_type": "markdown",
   "metadata": {},
   "source": [
    "## [2] 팩토리얼 진법\n",
    "https://www.acmicpc.net/problem/5692\n",
    "\n",
    "<input>\n",
    "719 (7*3! + 1*2! + 9*1!) -> (7*3! + 7*(3!/3) + 7*(3!/3/2))\n",
    "1\n",
    "15\n",
    "110\n",
    "102\n",
    "0\n",
    "\n",
    "<output>\n",
    "53\n",
    "1\n",
    "7\n",
    "8\n",
    "8"
   ]
  },
  {
   "cell_type": "code",
   "execution_count": 37,
   "metadata": {},
   "outputs": [
    {
     "name": "stdout",
     "output_type": "stream",
     "text": [
      "53\n",
      "1\n",
      "7\n",
      "8\n",
      "8\n"
     ]
    }
   ],
   "source": [
    "import sys\n",
    "\n",
    "fact_dic = {}\n",
    "\n",
    "while True:\n",
    "    # n = str(sys.stdin.readline().split()[0])\n",
    "    n = input()\n",
    "    \n",
    "    if n == str(0):\n",
    "        break\n",
    "    \n",
    "    result,f = 0,1\n",
    "    \n",
    "    if len(n) in fact_dic:\n",
    "        f = fact_dic[len(n)]\n",
    "    else:\n",
    "        for i in range(len(n)):\n",
    "            f *= (i+1)\n",
    "            fact_dic[len(n)] = f\n",
    "\n",
    "    for i,a in enumerate(n):\n",
    "        if i > 0:\n",
    "            f /= (len(n)+1-i)\n",
    "        result += int(a)*f\n",
    "    print(int(result))"
   ]
  },
  {
   "cell_type": "markdown",
   "metadata": {},
   "source": [
    "## [3] 가장 먼 노드\n",
    "https://school.programmers.co.kr/learn/courses/30/lessons/49189\n"
   ]
  },
  {
   "cell_type": "code",
   "execution_count": 1,
   "metadata": {},
   "outputs": [],
   "source": [
    "n = 6\n",
    "vertex  = [[3, 6], [4, 3], [3, 2], [1, 3], [1, 2], [2, 4], [5, 2]]"
   ]
  },
  {
   "cell_type": "code",
   "execution_count": 24,
   "metadata": {},
   "outputs": [
    {
     "data": {
      "text/plain": [
       "3"
      ]
     },
     "execution_count": 24,
     "metadata": {},
     "output_type": "execute_result"
    }
   ],
   "source": [
    "from collections import deque\n",
    "def bfs(graph,n):\n",
    "    visited = [0 for _ in range(n+1)]\n",
    "    \n",
    "    #(Node 1, Node 1의 depth) push\n",
    "    queue = deque([(1,0)])\n",
    "\n",
    "    while queue:\n",
    "        N, depth = queue.popleft()\n",
    "\n",
    "        #N과 연결된 모든 노드에 대해서\n",
    "        for i in graph[N]: \n",
    "            if not visited[i]: #방문하지 않았다면\n",
    "                visited[i] = depth + 1 #방문 표시로 depth 기록\n",
    "                queue.append((i,depth + 1))\n",
    "    \n",
    "    return visited\n",
    "\n",
    "def solution(n,vertex):\n",
    "    graph = [[] for _ in range(n+1)]\n",
    "    count = 0\n",
    "    \n",
    "    #graph 생성\n",
    "    for n1,n2 in vertex:\n",
    "        graph[n1].append(n2)\n",
    "        graph[n2].append(n1)\n",
    "    \n",
    "    #bfs 실행\n",
    "    visited = bfs(graph,n)\n",
    "    \n",
    "    #2~N번 노드 중에서 max 값 갖고 있는 노드 전부 찾기\n",
    "    for n in visited[2:]:\n",
    "        if n == max(visited[2:]):\n",
    "            count += 1\n",
    "    \n",
    "    return count\n",
    "solution(n,vertex)"
   ]
  },
  {
   "cell_type": "code",
   "execution_count": null,
   "metadata": {},
   "outputs": [],
   "source": [
    "#시간 초과\n",
    "from collections import deque\n",
    "\n",
    "def bfs(graph, target):\n",
    "    visited = [0 for _ in range(n+1)]\n",
    "\n",
    "    queue = deque([[1,0]])\n",
    "\n",
    "    while queue:\n",
    "        N, depth = queue.popleft()\n",
    "\n",
    "        if N == target:\n",
    "            return depth\n",
    "\n",
    "        for i in graph[N]: \n",
    "            if not visited[i]:\n",
    "                visited[i] = 1\n",
    "                queue.append([i,depth + 1])\n",
    "\n",
    "def solution(n,vertex):\n",
    "    graph = [[] for _ in range(n+1)]\n",
    "    answer = []\n",
    "    count = 0\n",
    "\n",
    "    for n1,n2 in vertex:\n",
    "        graph[n1].append(n2)\n",
    "        graph[n2].append(n1)\n",
    "\n",
    "    for i in range(2,n+1):\n",
    "        answer.append(bfs(graph,i))\n",
    "    \n",
    "    for i in range(n-1):\n",
    "        if answer[i] == max(answer):\n",
    "            count += 1\n",
    "    return count"
   ]
  },
  {
   "cell_type": "code",
   "execution_count": 21,
   "metadata": {},
   "outputs": [
    {
     "data": {
      "text/plain": [
       "3"
      ]
     },
     "execution_count": 21,
     "metadata": {},
     "output_type": "execute_result"
    }
   ],
   "source": [
    "solution(n,vertex)"
   ]
  },
  {
   "cell_type": "markdown",
   "metadata": {},
   "source": [
    "## [4] 진법 변환\n",
    "https://www.acmicpc.net/problem/2745\n",
    "\n",
    "<input>\n",
    "ZZZZZ 36\n",
    "\n",
    "<output>\n",
    "60466175"
   ]
  },
  {
   "cell_type": "code",
   "execution_count": 2,
   "metadata": {},
   "outputs": [
    {
     "name": "stdout",
     "output_type": "stream",
     "text": [
      "ZZZZZ 36\n",
      "60466175\n"
     ]
    }
   ],
   "source": [
    "def solution(n, q):\n",
    "    rev_base = ''\n",
    "\n",
    "    while n > 0:\n",
    "        n, mod = divmod(n, q)\n",
    "        rev_base += str(mod)\n",
    "\n",
    "    return rev_base[::-1] \n",
    "    \n",
    "s,n = map(str,input().split())\n",
    "print(solution(int(s,int(n)),10)) "
   ]
  }
 ],
 "metadata": {
  "kernelspec": {
   "display_name": "Python 3.8.3 ('base')",
   "language": "python",
   "name": "python3"
  },
  "language_info": {
   "codemirror_mode": {
    "name": "ipython",
    "version": 3
   },
   "file_extension": ".py",
   "mimetype": "text/x-python",
   "name": "python",
   "nbconvert_exporter": "python",
   "pygments_lexer": "ipython3",
   "version": "3.8.3"
  },
  "orig_nbformat": 4,
  "vscode": {
   "interpreter": {
    "hash": "dcfd41fce1e84fe5854a6f55d82c3c14a68dcbcbf7bbebc76d7a18baf5e9f28d"
   }
  }
 },
 "nbformat": 4,
 "nbformat_minor": 2
}
