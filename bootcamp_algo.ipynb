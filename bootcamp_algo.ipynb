{
 "cells": [
  {
   "cell_type": "markdown",
   "metadata": {},
   "source": [
    "# Table of Contents in this notebook \n",
    "\n",
    "* [Day1(20220818)](#Day1-(20220818))\n",
    "    * [백준 - 9012번 괄호](#problem-1-1)\n",
    "    * [백준 - 2164번 카드2](#problem-1-2)\n",
    "* [Day 2(20220824)](#Day2(20220824))\n",
    "    * [프로그래머스 - 크레인 인형 뽑기](#problem-2-1)\n",
    "    * [프로그래머스 - 프린터](#problem-2-2)\n",
    "    * [백준 - 14888번 연산자 끼워넣기](#problem-2-3)\n",
    "    * [백준 - 체스판 다시 칠하기](#problem-2-4)   "
   ]
  },
  {
   "cell_type": "markdown",
   "metadata": {},
   "source": [
    "## Day1 (20220818) "
   ]
  },
  {
   "cell_type": "markdown",
   "metadata": {},
   "source": [
    "### problem 1-1\n",
    "- 백준9012번괄호   \n",
    "\n",
    "<input>\n",
    "6\n",
    "(())())\n",
    "(((()())()\n",
    "(()())((()))\n",
    "((()()(()))(((())))()\n",
    "()()()()(()()())()\n",
    "(()((())()(\n",
    "\n",
    "<output>\n",
    "NO\n",
    "NO\n",
    "YES\n",
    "NO\n",
    "YES\n",
    "NO"
   ]
  },
  {
   "cell_type": "code",
   "execution_count": 42,
   "metadata": {},
   "outputs": [
    {
     "name": "stdout",
     "output_type": "stream",
     "text": [
      "YES\n",
      "YES\n",
      "NO\n"
     ]
    }
   ],
   "source": [
    "#9012번\n",
    "#괄호 문자열이 VPS인지 아닌지 판단하기\n",
    "def check(string):\n",
    "    stack = [] #빈 스택 선언\n",
    "    \n",
    "    for s in string: \n",
    "        try:\n",
    "            #s가 \"(\" 라면 stack에 push\n",
    "            if s == \"(\":\n",
    "                stack.append(s)\n",
    "            #s가 \")\"라면 stack에서 pop\n",
    "            else:\n",
    "                stack.pop()\n",
    "        #빈 스택에서 pop이 발생하면 VPS가 아님\n",
    "        except:\n",
    "            return \"NO\"\n",
    "    \n",
    "    #스택이 비어있다면 VPS라고 판단\n",
    "    if len(stack) == 0:\n",
    "        return \"YES\"\n",
    "    else:\n",
    "        return \"NO\"\n",
    "\n",
    "#확인할 string 갯수 입력 받기        \n",
    "n = int(input())\n",
    "answer = []\n",
    "\n",
    "for i in range(n):\n",
    "    #괄호 문자열 입력받기\n",
    "    string = input()\n",
    "    #check한 결과를 answer에 붙이기\n",
    "    answer.append(check(string))\n",
    "\n",
    "print('\\n'.join(answer))\n"
   ]
  },
  {
   "cell_type": "markdown",
   "metadata": {},
   "source": [
    "### problem 1-2\n",
    "- 백준 2164번 카드2\n",
    "\n",
    "<input>\n",
    "6\n",
    "\n",
    "<output>\n",
    "4"
   ]
  },
  {
   "cell_type": "code",
   "execution_count": null,
   "metadata": {},
   "outputs": [
    {
     "name": "stdout",
     "output_type": "stream",
     "text": [
      "1\n"
     ]
    }
   ],
   "source": [
    "#2164번\n",
    "from collections import deque\n",
    "\n",
    "#카드의 갯수 입력 받기\n",
    "N = int(input())\n",
    "\n",
    "#카드 1번~N번이 들어있는 queue 선언\n",
    "queue = deque([i for i in range(1,N+1)])\n",
    "\n",
    "while len(queue) != 1:\n",
    "    #맨 위에 있는 카드 버리기\n",
    "    queue.popleft()\n",
    "\n",
    "    #제일 위에 있는 카드 뽑아서\n",
    "    top = queue.popleft()\n",
    "\n",
    "    #제일 아래에 있는 카드 밑으로 옮기기\n",
    "    queue.append(top)\n",
    "\n",
    "#남은 카드 출력\n",
    "print(queue[0])"
   ]
  },
  {
   "cell_type": "markdown",
   "metadata": {},
   "source": [
    "## Day2(20220824)"
   ]
  },
  {
   "cell_type": "markdown",
   "metadata": {},
   "source": [
    "### problem 2-1\n",
    "- 프로그래머스 - 크레인 인형 뽑기\n",
    "https://school.programmers.co.kr/learn/courses/30/lessons/64061"
   ]
  },
  {
   "cell_type": "code",
   "execution_count": 99,
   "metadata": {},
   "outputs": [
    {
     "data": {
      "text/plain": [
       "0"
      ]
     },
     "execution_count": 99,
     "metadata": {},
     "output_type": "execute_result"
    }
   ],
   "source": [
    "def solution(board, moves):\n",
    "    #비어있는 스택 선언\n",
    "    stack = []\n",
    "    count = 0\n",
    "    \n",
    "    for i in moves:\n",
    "        for j in range(len(board)):\n",
    "            #board[j][i-1]에 0이 아닌 수가 들어오면\n",
    "            if board[j][i-1] != 0:\n",
    "                #stack에 push\n",
    "                stack.append(board[j][i-1])\n",
    "                #0으로 숫자를 바꿔서 이미 나갔음을 표시\n",
    "                board[j][i-1] = 0\n",
    "            \n",
    "                #stack의 길이가 1보다 크면\n",
    "                if len(stack) > 1:\n",
    "                    #만약 top에 있는 첫번째, 두번째 숫자가 같으면\n",
    "                    if stack[-1] == stack[-2]:\n",
    "                        #같은 숫자를 모두 pop\n",
    "                        stack.pop()\n",
    "                        stack.pop()\n",
    "                        count += 1\n",
    "                break\n",
    "    return count * 2"
   ]
  },
  {
   "cell_type": "code",
   "execution_count": null,
   "metadata": {},
   "outputs": [],
   "source": [
    "from collections import deque\n",
    "\n",
    "def solution(board, moves):\n",
    "    board_T = ([deque(list(x)) for x in zip(*board)])\n",
    "    stack = []\n",
    "    count,top = 0,0\n",
    "\n",
    "    for i in moves:        \n",
    "        if board_T[i-1]:\n",
    "            try:\n",
    "                while board_T[i-1][0] == 0:\n",
    "                    board_T[i-1].popleft()\n",
    "            except:\n",
    "                continue\n",
    "\n",
    "            n = board_T[i-1].popleft()\n",
    "\n",
    "            if stack:\n",
    "                top = stack.pop()\n",
    "            \n",
    "            if top == 0:\n",
    "                stack.append(n)\n",
    "                continue\n",
    "\n",
    "            if top == n:\n",
    "                count += 1\n",
    "            else:\n",
    "                stack.append(top)\n",
    "                stack.append(n)\n",
    "        \n",
    "    return count * 2"
   ]
  },
  {
   "cell_type": "code",
   "execution_count": 100,
   "metadata": {},
   "outputs": [
    {
     "data": {
      "text/plain": [
       "4"
      ]
     },
     "execution_count": 100,
     "metadata": {},
     "output_type": "execute_result"
    }
   ],
   "source": [
    "board = [[0,0,0,0,0],[0,0,1,0,3],[0,2,5,0,1],[4,2,4,4,2],[3,5,1,3,1]]\n",
    "moves = [1,5,3,5,1,2,1,4]\n",
    "\n",
    "solution(board, moves)"
   ]
  },
  {
   "cell_type": "markdown",
   "metadata": {},
   "source": [
    "### problem 2-2\n",
    "- 프로그래머스 - 프린터\n",
    "https://school.programmers.co.kr/learn/courses/30/lessons/42587\n",
    "\n",
    "priorities\t    location\treturn\n",
    "[2, 1, 3, 2]\t    2\t    1\n",
    "[1, 1, 9, 1, 1, 1]\t0\t    5"
   ]
  },
  {
   "cell_type": "code",
   "execution_count": 119,
   "metadata": {},
   "outputs": [],
   "source": [
    "def solution(priorities, location):\n",
    "    #priorities의 길이와 같은 paper deque를 선언\n",
    "    paper = deque([(i,p) for i,p in enumerate(priorities)])\n",
    "    queue = deque(priorities)\n",
    "    \n",
    "    order = 1\n",
    "\n",
    "    #queue에 원소가 있는 동안\n",
    "    while queue:\n",
    "        #만약 출력 대상이 max 값이 아니라면\n",
    "        if queue[0] != max(queue):\n",
    "            #출력 대상을 맨 뒤로 보냄\n",
    "            queue.append(queue.popleft())\n",
    "            paper.append(paper.popleft())\n",
    "        \n",
    "        else:\n",
    "            #만약 출력 대상이 target과 같다면 order를 리턴\n",
    "            if paper[0] == location:\n",
    "                return order\n",
    "            #출력 대상이 target이 아니라면 출력만 한다\n",
    "            else:\n",
    "                queue.popleft()\n",
    "                paper.popleft()\n",
    "\n",
    "                order += 1"
   ]
  },
  {
   "cell_type": "code",
   "execution_count": 121,
   "metadata": {},
   "outputs": [
    {
     "data": {
      "text/plain": [
       "1"
      ]
     },
     "execution_count": 121,
     "metadata": {},
     "output_type": "execute_result"
    }
   ],
   "source": [
    "priorities = [2,1,3,2]\n",
    "location = 2\n",
    "solution(priorities,location)"
   ]
  },
  {
   "cell_type": "markdown",
   "metadata": {},
   "source": [
    "### problem 2-3\n",
    "- 백준 - 14888번 연산자 끼워넣기\n",
    "https://www.acmicpc.net/problem/14888\n",
    "<input>\n",
    "2\n",
    "5 6\n",
    "0 0 1 0 (+,-,*,/)\n",
    "\n",
    "<output>\n",
    "30\n",
    "30\n",
    "\n",
    "<input>\n",
    "3\n",
    "3 4 5\n",
    "1 0 1 0\n",
    "\n",
    "<output>\n",
    "35 (3+4)*5\n",
    "17 (3*4)+5"
   ]
  },
  {
   "cell_type": "code",
   "execution_count": 20,
   "metadata": {},
   "outputs": [
    {
     "name": "stdout",
     "output_type": "stream",
     "text": [
      "54 \n",
      " -24\n"
     ]
    }
   ],
   "source": [
    "from itertools import permutations\n",
    "\n",
    "N = int(input())\n",
    "A = list(map(int,input().split()))\n",
    "oper_i = list(map(int,input().split()))\n",
    "\n",
    "oper = ['+','-','*','/']\n",
    "#변환한 연산자를 저장하는 리스트 \n",
    "oper_l = []\n",
    "answer = []\n",
    "s연산자 갯수 만큼 반복\n",
    "for i in range(4):\n",
    "    #변환한 연산자를 갯수만큼 이어붙임\n",
    "    for j in range(oper_i[i]):\n",
    "        oper_l.append(oper[i])\n",
    "#연산자의 모든 조합 구하기\n",
    "oper_p = list(set(permutations(oper_l,len(oper_l)))) \n",
    "#연산자의 모든 조합에 대해서 계산 진행\n",
    "for o in oper_p:\n",
    "    #결과값을 저장하는 변수 선언, 첫번째 숫자를 저장\n",
    "    result = A[0]\n",
    "    #len(A)-1 만큼 반복, 연산자에 해당하는 계산을 수행해서 result에 저장\n",
    "    for i in range(len(A)-1):\n",
    "        if o[i] == '+':\n",
    "            result += A[i+1]\n",
    "        \n",
    "        elif o[i] == '-':\n",
    "            result -= A[i+1]\n",
    "            \n",
    "        elif o[i] == '*':\n",
    "            result *= A[i+1]\n",
    "\n",
    "        elif o[i] == '/':\n",
    "            #만약 result 값이 음수라면 result의 절대값으로 먼저 계산한 후 음수로 변환\n",
    "            if result < 0:\n",
    "                result = (abs(result)//A[i+1])*-1 \n",
    "            else:\n",
    "                result //= A[i+1]\n",
    "    answer.append(result)\n",
    "#최댓값과 최솟값 출력\n",
    "print(max(answer),'\\n',min(answer))\n"
   ]
  },
  {
   "cell_type": "markdown",
   "metadata": {},
   "source": [
    "### problem 2-4\n",
    "- 백준 - 1018번 체스판 다시 칠하기\n",
    "https://www.acmicpc.net/problem/1018\n",
    "\n",
    "<input>\n",
    "8 8\n",
    "WBWBWBWB\n",
    "BWBWBWBW\n",
    "WBWBWBWB\n",
    "BWBBBWBW\n",
    "WBWBWBWB\n",
    "BWBWBWBW\n",
    "WBWBWBWB\n",
    "BWBWBWBW\n",
    "\n",
    "<input>\n",
    "10 13\n",
    "BBBBBBBBWBWBW\n",
    "BBBBBBBBBWBWB\n",
    "BBBBBBBBWBWBW\n",
    "BBBBBBBBBWBWB\n",
    "BBBBBBBBWBWBW\n",
    "BBBBBBBBBWBWB\n",
    "BBBBBBBBWBWBW\n",
    "BBBBBBBBBWBWB\n",
    "WWWWWWWWWWBWB\n",
    "WWWWWWWWWWBWB\n",
    "\n",
    "<output>\n",
    "12"
   ]
  },
  {
   "cell_type": "code",
   "execution_count": 41,
   "metadata": {},
   "outputs": [
    {
     "name": "stdout",
     "output_type": "stream",
     "text": [
      "15\n"
     ]
    }
   ],
   "source": [
    "#W,B color flag를 바꾸는 함수\n",
    "def change(flag):\n",
    "    if flag == color[0]:\n",
    "        flag = color[1]\n",
    "    else:\n",
    "        flag = color[0]\n",
    "    return flag\n",
    "\n",
    "#체스판과 결과를 저장하는 리스트 선언    \n",
    "result= []\n",
    "color = ['W','B']\n",
    "value = 0\n",
    "\n",
    "M, N = map(int,input().split())\n",
    "for i in range(M):\n",
    "    board.append(input())\n",
    "\n",
    "#M*N의 체스판에서 8*8 크기만 선택\n",
    "for n in range(M-7):\n",
    "    for m in range(N-7):\n",
    "        #체스판의 시작이 W or B인 경우 전부에 대해서 바뀌는 판 수 확인\n",
    "        for c in range(2):\n",
    "            flag = color[c]\n",
    "            for j in range(n,n+8):\n",
    "                #한 줄씩 확인\n",
    "                row = board[j][m:m+8]\n",
    "                for i in row:\n",
    "                    #컬러가 일치한다면 넘어감\n",
    "                    if i == flag:\n",
    "                        pass\n",
    "                    #컬러가 일치하지 않으면 value에 1을 더함\n",
    "                    else:\n",
    "                        value += 1\n",
    "                    #flag의 색깔 변경\n",
    "                    flag = change(flag)\n",
    "                #줄이 바뀔 때마다 시작 컬러를 한번 더 바꿔줘야함\n",
    "                flag = change(flag)\n",
    "            result.append(value)\n",
    "            #value 초기화\n",
    "            value = 0\n",
    "print(min(result))"
   ]
  },
  {
   "cell_type": "markdown",
   "metadata": {},
   "source": [
    "# Day3(220831)"
   ]
  },
  {
   "cell_type": "markdown",
   "metadata": {},
   "source": [
    "## probelm 3-1\n",
    "백준 - 숫자카드2\n",
    "https://www.acmicpc.net/problem/10816\n",
    "\n",
    "<input>\n",
    "10\n",
    "6 3 2 10 10 10 -10 -10 7 3\n",
    "8\n",
    "10 9 -5 2 3 4 5 -10\n",
    "\n",
    "<output>\n",
    "3 0 0 1 2 0 0 2"
   ]
  },
  {
   "cell_type": "code",
   "execution_count": 57,
   "metadata": {},
   "outputs": [
    {
     "name": "stdout",
     "output_type": "stream",
     "text": [
      "[6, 3, 2, 10, 10, 10, -10, -10, 7, 3] [10, 9, -5, 2, 3, 4, 5, -10]\n",
      "3 0 0 1 2 0 0 2 "
     ]
    }
   ],
   "source": [
    "from collections import Counter\n",
    "\n",
    "N = int(input())\n",
    "card = list(map(int,input().split()))\n",
    "M = int(input())\n",
    "target = list(map(int,input().split()))\n",
    "\n",
    "count = Counter(card)\n",
    "\n",
    "for i in target:\n",
    "    if i in count:\n",
    "        print(count[i],end = ' ')\n",
    "    else:\n",
    "        print(0,end = ' ')"
   ]
  },
  {
   "cell_type": "markdown",
   "metadata": {},
   "source": [
    "## problem 3-2\n",
    "백준 - DFS와 BFS\n",
    "https://www.acmicpc.net/problem/1260"
   ]
  },
  {
   "cell_type": "code",
   "execution_count": null,
   "metadata": {},
   "outputs": [],
   "source": [
    "#두번째\n",
    "from collections import deque\n",
    "import sys\n",
    "\n",
    "#DFS\n",
    "def DFS(graph, root, visited =[]):\n",
    "    stack = [root] #stack을 생성하고 root push\n",
    "\n",
    "    while stack:\n",
    "        n = stack.pop() \n",
    "        if n not in visited:\n",
    "            visited.append(n) #visited에 표시\n",
    "            if n in graph:\n",
    "                temp = list(set(graph[n]) - set(visited)) \n",
    "                temp.sort(reverse = True) #내림차순으로 졍럴 - stack의 Top에 숫자가 작은 것이 위치하게된다. \n",
    "                stack += temp #stack에 push\n",
    "    return \" \".join(str(i) for i in visited)\n",
    "\n",
    "#BFS\n",
    "def BFS(graph, root, visited = []):\n",
    "    queue = deque([root]) #queue를 생성하고 root push\n",
    "\n",
    "    while queue:\n",
    "        n = queue.popleft()\n",
    "\n",
    "        if n not in visited:\n",
    "            visited.append(n) #visited에 표시\n",
    "            if n in graph:\n",
    "                temp = list(set(graph[n]) - set(visited))\n",
    "                temp.sort() #오름차순으로 졍럴 - queue의 Bottom에 숫자가 작은 것이 위치하게된다. \n",
    "                queue += temp #queue에 push\n",
    "    return \" \".join(str(i) for i in visited)\n",
    "\n",
    "input = sys.stdin.readline\n",
    "N, M, V = map(int,input().split())\n",
    "\n",
    "#그래프 만들기 - 각 노드마다 연결된 노드를 표시해준다. \n",
    "graph = {}\n",
    "for i in range(M):\n",
    "    n1, n2 = map(int,input().split())\n",
    "    graph[n1] = graph.get(n1,[]) + [n2]\n",
    "    graph[n2] = graph.get(n2,[]) + [n1]\n",
    "\n",
    "print(DFS(graph, V))\n",
    "print(BFS(graph, V))"
   ]
  },
  {
   "cell_type": "markdown",
   "metadata": {},
   "source": [
    "## problem 3-3\n",
    "백준 - 트리의 부모 찾기\n",
    "https://www.acmicpc.net/problem/11725\n",
    "\n",
    "<input>\n",
    "7\n",
    "1 6\n",
    "6 3\n",
    "3 5\n",
    "4 1\n",
    "2 4\n",
    "4 7\n",
    "\n",
    "<output>\n",
    "4\n",
    "6\n",
    "1\n",
    "3\n",
    "1\n",
    "4\n",
    "\n",
    "<input>\n",
    "12\n",
    "1 2\n",
    "1 3\n",
    "2 4\n",
    "3 5\n",
    "3 6\n",
    "4 7\n",
    "4 8\n",
    "5 9\n",
    "5 10\n",
    "6 11\n",
    "6 12"
   ]
  },
  {
   "cell_type": "code",
   "execution_count": 30,
   "metadata": {},
   "outputs": [
    {
     "name": "stdout",
     "output_type": "stream",
     "text": [
      "[[], [6, 4], [4], [6, 5], [1, 2, 7], [3], [1, 3], [4]]\n"
     ]
    }
   ],
   "source": [
    "l = int(input())\n",
    "answer = [0]*(n)\n",
    "\n",
    "graph = [[] for _ in range(l+1)]\n",
    "\n",
    "# print(graph)\n",
    "for i in range(l-1):\n",
    "    n1, n2 = map(int,input().split())\n",
    "    graph[n1].append(n2)\n",
    "    graph[n2].append(n1)\n",
    "print(graph)"
   ]
  },
  {
   "cell_type": "code",
   "execution_count": 33,
   "metadata": {},
   "outputs": [],
   "source": [
    "graph = [[], [2, 3], [1, 4], [1, 5, 6], [2, 7, 8], [3, 9, 10], [3, 11, 12], [4], [4], [5], [5], [6], [6]]\n",
    "graph = [[], [6, 4], [4], [6, 5], [1, 2, 7], [3], [1, 3], [4]]"
   ]
  },
  {
   "cell_type": "code",
   "execution_count": 43,
   "metadata": {},
   "outputs": [
    {
     "name": "stdout",
     "output_type": "stream",
     "text": [
      "1\n",
      "1\n",
      "2\n",
      "3\n",
      "3\n",
      "4\n",
      "4\n",
      "5\n",
      "5\n",
      "6\n",
      "6\n"
     ]
    }
   ],
   "source": [
    "from collections import deque\n",
    "\n",
    "def bfs(root):\n",
    "    visited = [0 for _ in range(l+1)]\n",
    "    visited[1] = -1\n",
    "\n",
    "    queue = deque([root])\n",
    "\n",
    "    while queue:\n",
    "        d,n = queue.popleft()\n",
    "        \n",
    "        prev = [d,n]\n",
    "\n",
    "        for i in graph[n]:\n",
    "            if not visited[i]:\n",
    "                visited[i] = prev[1]\n",
    "                queue.append([d+1,i])\n",
    "    \n",
    "    return visited\n",
    "\n",
    "l = int(input())\n",
    "\n",
    "graph = [[] for _ in range(l+1)]\n",
    "\n",
    "for i in range(l-1):\n",
    "    n1, n2 = map(int,input().split())\n",
    "    graph[n1].append(n2)\n",
    "    graph[n2].append(n1)\n",
    "\n",
    "root = [0,1]\n",
    "answer = bfs(root)\n",
    "\n",
    "print(*answer[2:], sep='\\n')"
   ]
  },
  {
   "cell_type": "code",
   "execution_count": 44,
   "metadata": {},
   "outputs": [
    {
     "name": "stdout",
     "output_type": "stream",
     "text": [
      "4\n",
      "6\n",
      "1\n",
      "3\n",
      "1\n",
      "4\n"
     ]
    }
   ],
   "source": [
    "#dfs\n",
    "def dfs(root):\n",
    "    visited = [0 for _ in range(l+1)]\n",
    "    visited[1] = -1\n",
    "\n",
    "    queue = [root]\n",
    "\n",
    "    while queue:\n",
    "        d,n = queue.pop()\n",
    "        \n",
    "        prev = [d,n]\n",
    "\n",
    "        for i in graph[n]:\n",
    "            if not visited[i]:\n",
    "                visited[i] = prev[1]\n",
    "                queue.append([d+1,i])\n",
    "    \n",
    "    return visited\n",
    "\n",
    "l = int(input())\n",
    "\n",
    "graph = [[] for _ in range(l+1)]\n",
    "\n",
    "for i in range(l-1):\n",
    "    n1, n2 = map(int,input().split())\n",
    "    graph[n1].append(n2)\n",
    "    graph[n2].append(n1)\n",
    "\n",
    "root = [0,1]\n",
    "answer = dfs(root)\n",
    "\n",
    "print(*answer[2:], sep='\\n')"
   ]
  },
  {
   "cell_type": "markdown",
   "metadata": {},
   "source": [
    "## problem 3-4\n",
    "백준 - 미로찾기\n",
    "https://www.acmicpc.net/problem/2178"
   ]
  },
  {
   "cell_type": "code",
   "execution_count": null,
   "metadata": {},
   "outputs": [],
   "source": [
    "#두번째\n",
    "\n",
    "from collections import deque\n",
    "\n",
    "def bfs(root):\n",
    "    queue = deque([root]) #큐를 생성해서 root push\n",
    "    \n",
    "    while queue:\n",
    "        x,y = queue.popleft() #pop - 기본 좌표가 나옴\n",
    "        \n",
    "        #상하좌우 이동\n",
    "        for i in range(4):\n",
    "            nx = x + dx[i] \n",
    "            ny = y + dy[i]\n",
    "            #좌표 밖을 벗어나면 넘어감\n",
    "            if nx < 0 or ny < 0 or nx >= N or ny >= M:\n",
    "                continue\n",
    "            \n",
    "            if graph[nx][ny] == 1: #만약 이동한 좌표의 값이 1이라면\n",
    "                graph[nx][ny] = graph[x][y] + 1 #이동한 좌표의 값에 기본 좌표 값에 1을 더함\n",
    "                queue.append([nx,ny]) #좌표를 queue에 push\n",
    "    \n",
    "    return graph[N-1][M-1] #도착 지점의 값을 리턴함\n",
    "\n",
    "graph,root = [],[0,0]\n",
    "N,M = map(int,input().split())\n",
    "\n",
    "#graph 만들기\n",
    "for i in range(N):\n",
    "    line = input()\n",
    "    graph.append([int(i) for i in line])\n",
    "\n",
    "#좌표 상화좌우 이동을 위한 dx,dy\n",
    "dx = [-1,1,0,0] \n",
    "dy = [0,0,-1,1]\n",
    "\n",
    "print(bfs(root))"
   ]
  }
 ],
 "metadata": {
  "kernelspec": {
   "display_name": "Python 3.8.3 ('base')",
   "language": "python",
   "name": "python3"
  },
  "language_info": {
   "codemirror_mode": {
    "name": "ipython",
    "version": 3
   },
   "file_extension": ".py",
   "mimetype": "text/x-python",
   "name": "python",
   "nbconvert_exporter": "python",
   "pygments_lexer": "ipython3",
   "version": "3.8.3"
  },
  "orig_nbformat": 4,
  "vscode": {
   "interpreter": {
    "hash": "dcfd41fce1e84fe5854a6f55d82c3c14a68dcbcbf7bbebc76d7a18baf5e9f28d"
   }
  }
 },
 "nbformat": 4,
 "nbformat_minor": 2
}
