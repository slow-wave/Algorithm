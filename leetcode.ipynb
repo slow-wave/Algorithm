{
 "cells": [
  {
   "cell_type": "markdown",
   "metadata": {},
   "source": [
    "# Table of Contents in this notebook \n",
    "\n",
    "* [1603](#1603.-Design-Parking-System)"
   ]
  },
  {
   "cell_type": "markdown",
   "metadata": {},
   "source": [
    "### 1603. Design Parking System\n",
    "https://leetcode.com/problems/design-parking-system/"
   ]
  },
  {
   "cell_type": "code",
   "execution_count": 1,
   "metadata": {},
   "outputs": [],
   "source": [
    "class ParkingSystem:\n",
    "\n",
    "    def __init__(self, big: int, medium: int, small: int):\n",
    "        self.space = [big,medium,small]\n",
    "\n",
    "    def addCar(self, carType: int) -> bool:\n",
    "        if carType == 1:\n",
    "            if self.space[0]:\n",
    "                self.space[0] -= 1\n",
    "                return True\n",
    "            return False\n",
    "        \n",
    "        elif carType == 2:\n",
    "            if self.space[1]:\n",
    "                self.space[1] -= 1\n",
    "                return True\n",
    "            return False\n",
    "        \n",
    "        elif carType == 3:\n",
    "            if self.space[2]:\n",
    "                self.space[2] -= 1\n",
    "                return True\n",
    "            return False\n",
    "\n",
    "# Your ParkingSystem object will be instantiated and called as such:\n",
    "# obj = ParkingSystem(big, medium, small)\n",
    "# param_1 = obj.addCar(carType)"
   ]
  },
  {
   "cell_type": "markdown",
   "metadata": {},
   "source": [
    "## 1876. Substrings of Size Three with Distinct Characters"
   ]
  },
  {
   "cell_type": "code",
   "execution_count": null,
   "metadata": {},
   "outputs": [],
   "source": [
    "class Solution:\n",
    "    def countGoodSubstrings(self, s: str) -> int:\n",
    "        if len(s) < 3:\n",
    "            return 0\n",
    "        \n",
    "        answer = 0\n",
    "        for i in range(len(s)-2):\n",
    "            if len(set(s[i:i+3])) == 3:\n",
    "                answer += 1\n",
    "        return answer\n",
    "            "
   ]
  },
  {
   "cell_type": "markdown",
   "metadata": {},
   "source": [
    "## 840. Magic Squares In Grid (not solved)"
   ]
  },
  {
   "cell_type": "code",
   "execution_count": null,
   "metadata": {},
   "outputs": [],
   "source": [
    "class Solution:\n",
    "    def numMagicSquaresInside(self, grid: List[List[int]]) -> int:\n",
    "        answer = 0\n",
    "        for r in range(len(grid[0])-2):\n",
    "            # row, col, diag= [0,0,0],[0,0,0],[0,0]\n",
    "            # row,diag,col = {},[0,0],{}\n",
    "            # count = set()\n",
    "            for c in range(len(grid)-2):\n",
    "                row,diag,col = {},[0,0],{}\n",
    "                count = set()\n",
    "                \n",
    "                for x in range(3):\n",
    "                    count.add(grid[c+x][r])\n",
    "                    count.add(grid[c+x][r+1])\n",
    "                    count.add(grid[c+x][r+2])\n",
    "                    \n",
    "                    row[sum(grid[c+x][r:r+3])] = row.get(sum(grid[c+x][r:r+3]),0) + 1\n",
    "                    col[grid[c][x+c] + grid[c+1][x+c] + grid[c+2][x+c]] = col.get(grid[c][x+c] + grid[c+1][x+c] + grid[c+2][x+c],0) + 1\n",
    "                    # row[x] = sum(grid[c+x][r:r+3])\n",
    "                    # col[x] += (grid[c][x+c] + grid[c+1][x+c] + grid[c+2][x+c])\n",
    "                    \n",
    "                    # diag[0] += grid[c+x][r+c+x]\n",
    "                    # diag[1] +=  grid[2-x][2-(r+c+x)]\n",
    "                    diag[0] += grid[c+x][r+x]\n",
    "                    diag[1] +=  grid[2-x][2-(r+x)]\n",
    "\n",
    "                    if count != {1,2,3,4,5,6,7,8,9}:\n",
    "                    continue\n",
    "                try:\n",
    "                    if row[15] == 3 and col[15] == 3 and diag[0] == 15 and diag[1] == 15:\n",
    "                        answer += 1   \n",
    "                except:\n",
    "                    pass\n",
    "        print()\n",
    "        return answer\n",
    "            \n",
    "            "
   ]
  }
 ],
 "metadata": {
  "kernelspec": {
   "display_name": "Python 3.8.3 ('base')",
   "language": "python",
   "name": "python3"
  },
  "language_info": {
   "codemirror_mode": {
    "name": "ipython",
    "version": 3
   },
   "file_extension": ".py",
   "mimetype": "text/x-python",
   "name": "python",
   "nbconvert_exporter": "python",
   "pygments_lexer": "ipython3",
   "version": "3.8.3"
  },
  "orig_nbformat": 4,
  "vscode": {
   "interpreter": {
    "hash": "dcfd41fce1e84fe5854a6f55d82c3c14a68dcbcbf7bbebc76d7a18baf5e9f28d"
   }
  }
 },
 "nbformat": 4,
 "nbformat_minor": 2
}
