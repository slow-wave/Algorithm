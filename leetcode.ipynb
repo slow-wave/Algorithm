{
 "cells": [
  {
   "cell_type": "markdown",
   "metadata": {},
   "source": [
    "# Table of Contents in this notebook \n",
    "\n",
    "* [1603](#1603.-Design-Parking-System)"
   ]
  },
  {
   "cell_type": "markdown",
   "metadata": {},
   "source": [
    "### 1603. Design Parking System\n",
    "https://leetcode.com/problems/design-parking-system/"
   ]
  },
  {
   "cell_type": "code",
   "execution_count": 1,
   "metadata": {},
   "outputs": [],
   "source": [
    "class ParkingSystem:\n",
    "\n",
    "    def __init__(self, big: int, medium: int, small: int):\n",
    "        self.space = [big,medium,small]\n",
    "\n",
    "    def addCar(self, carType: int) -> bool:\n",
    "        if carType == 1:\n",
    "            if self.space[0]:\n",
    "                self.space[0] -= 1\n",
    "                return True\n",
    "            return False\n",
    "        \n",
    "        elif carType == 2:\n",
    "            if self.space[1]:\n",
    "                self.space[1] -= 1\n",
    "                return True\n",
    "            return False\n",
    "        \n",
    "        elif carType == 3:\n",
    "            if self.space[2]:\n",
    "                self.space[2] -= 1\n",
    "                return True\n",
    "            return False\n",
    "\n",
    "# Your ParkingSystem object will be instantiated and called as such:\n",
    "# obj = ParkingSystem(big, medium, small)\n",
    "# param_1 = obj.addCar(carType)"
   ]
  },
  {
   "cell_type": "code",
   "execution_count": null,
   "metadata": {},
   "outputs": [],
   "source": []
  }
 ],
 "metadata": {
  "kernelspec": {
   "display_name": "Python 3.8.3 ('base')",
   "language": "python",
   "name": "python3"
  },
  "language_info": {
   "codemirror_mode": {
    "name": "ipython",
    "version": 3
   },
   "file_extension": ".py",
   "mimetype": "text/x-python",
   "name": "python",
   "nbconvert_exporter": "python",
   "pygments_lexer": "ipython3",
   "version": "3.8.3"
  },
  "orig_nbformat": 4,
  "vscode": {
   "interpreter": {
    "hash": "dcfd41fce1e84fe5854a6f55d82c3c14a68dcbcbf7bbebc76d7a18baf5e9f28d"
   }
  }
 },
 "nbformat": 4,
 "nbformat_minor": 2
}
