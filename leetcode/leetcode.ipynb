{
 "cells": [
  {
   "cell_type": "markdown",
   "metadata": {},
   "source": [
    "# Table of Contents in this notebook \n",
    "\n",
    "* [1603](#1603.-Design-Parking-System)"
   ]
  },
  {
   "cell_type": "markdown",
   "metadata": {},
   "source": [
    "### 1603. Design Parking System\n",
    "https://leetcode.com/problems/design-parking-system/"
   ]
  },
  {
   "cell_type": "code",
   "execution_count": 1,
   "metadata": {},
   "outputs": [],
   "source": [
    "class ParkingSystem:\n",
    "\n",
    "    def __init__(self, big: int, medium: int, small: int):\n",
    "        self.space = [big,medium,small]\n",
    "\n",
    "    def addCar(self, carType: int) -> bool:\n",
    "        if carType == 1:\n",
    "            if self.space[0]:\n",
    "                self.space[0] -= 1\n",
    "                return True\n",
    "            return False\n",
    "        \n",
    "        elif carType == 2:\n",
    "            if self.space[1]:\n",
    "                self.space[1] -= 1\n",
    "                return True\n",
    "            return False\n",
    "        \n",
    "        elif carType == 3:\n",
    "            if self.space[2]:\n",
    "                self.space[2] -= 1\n",
    "                return True\n",
    "            return False\n",
    "\n",
    "# Your ParkingSystem object will be instantiated and called as such:\n",
    "# obj = ParkingSystem(big, medium, small)\n",
    "# param_1 = obj.addCar(carType)"
   ]
  },
  {
   "cell_type": "markdown",
   "metadata": {},
   "source": [
    "## 1876. Substrings of Size Three with Distinct Characters"
   ]
  },
  {
   "cell_type": "code",
   "execution_count": null,
   "metadata": {},
   "outputs": [],
   "source": [
    "class Solution:\n",
    "    def countGoodSubstrings(self, s: str) -> int:\n",
    "        if len(s) < 3:\n",
    "            return 0\n",
    "        \n",
    "        answer = 0\n",
    "        for i in range(len(s)-2):\n",
    "            if len(set(s[i:i+3])) == 3:\n",
    "                answer += 1\n",
    "        return answer\n",
    "            "
   ]
  },
  {
   "cell_type": "markdown",
   "metadata": {},
   "source": [
    "## 840. Magic Squares In Grid"
   ]
  },
  {
   "cell_type": "code",
   "execution_count": null,
   "metadata": {},
   "outputs": [],
   "source": [
    "class Solution:\n",
    "    def numMagicSquaresInside(self, grid: List[List[int]]) -> int:\n",
    "        answer = 0\n",
    "        for r in range(len(grid[0])-2):\n",
    "            for c in range(len(grid)-2):\n",
    "                row,col,diag = {},{},[0,0]\n",
    "                count = set()\n",
    "                \n",
    "                for x in range(3):\n",
    "                    count.add(grid[c+x][r])\n",
    "                    count.add(grid[c+x][r+1])\n",
    "                    count.add(grid[c+x][r+2])\n",
    "                    \n",
    "                    row[sum(grid[c+x][r:r+3])] = row.get(sum(grid[c+x][r:r+3]),0) + 1\n",
    "                    col[grid[c][x+r] + grid[c+1][x+r] + grid[c+2][x+r]] = col.get(grid[c][x+r] + grid[c+1][x+r] + grid[c+2][x+r],0) + 1\n",
    "\n",
    "                    diag[0] += grid[c+x][r+x]\n",
    "                    diag[1] +=  grid[c+x][r+(2-x)]\n",
    "\n",
    "                if count != {1,2,3,4,5,6,7,8,9}:\n",
    "                    continue\n",
    "                try:\n",
    "                    if row[15] == 3 and col[15] == 3 and diag[0] == 15 and diag[1] == 15:\n",
    "                        answer += 1   \n",
    "                except:\n",
    "                    pass\n",
    "        return answer"
   ]
  },
  {
   "cell_type": "markdown",
   "metadata": {},
   "source": [
    "## 202. Happy Number (not solved)\n",
    "https://leetcode.com/problems/happy-number/?envType=study-plan&id=level-2"
   ]
  },
  {
   "cell_type": "code",
   "execution_count": null,
   "metadata": {},
   "outputs": [],
   "source": [
    "class Solution:\n",
    "    def isHappy(self, n: int) -> bool:\n",
    "        if n == 1:\n",
    "            return True\n",
    "        max_num = 1000\n",
    "        value,s = n,0\n",
    "        \n",
    "        while max_num != 0:\n",
    "            for i in str(value):\n",
    "                s += int(i) ** 2\n",
    "            if s == 1:\n",
    "                return True\n",
    "            value = s\n",
    "            s = 0\n",
    "            max_num -= 1\n",
    "        return False"
   ]
  },
  {
   "cell_type": "code",
   "execution_count": 1,
   "metadata": {},
   "outputs": [
    {
     "name": "stdout",
     "output_type": "stream",
     "text": [
      "2\n"
     ]
    }
   ],
   "source": [
    "print(5//2)"
   ]
  },
  {
   "cell_type": "markdown",
   "metadata": {},
   "source": [
    "## 54. Spiral Matrix (not solved)\n",
    "https://leetcode.com/problems/spiral-matrix/"
   ]
  },
  {
   "cell_type": "code",
   "execution_count": null,
   "metadata": {},
   "outputs": [],
   "source": [
    "class Solution:\n",
    "    def spiralOrder(self, matrix: List[List[int]]) -> List[int]:\n",
    "        #Right, Down Left, Up\n",
    "        edge = [(0,1),(1,0),(0,-1),(-1,0)]\n",
    "        # flag = [3,2,3,1,2]\n",
    "        answer = [1]\n",
    "        count,i,f = 0,0,0\n",
    "        x,y = 0,0\n",
    "        M,N = len(matrix[0]),len(matrix)\n",
    "        flag = [M-1]\n",
    "\n",
    "        odd,even = M,N\n",
    "        \n",
    "        for _ in range((M+N-2)//2):            \n",
    "            odd -=1\n",
    "            even-=1\n",
    "            flag.append(even)\n",
    "            flag.append(odd)\n",
    "        print(flag)\n",
    "        for _ in range(M):\n",
    "            for _ in range(N):\n",
    "                x += edge[i][0]\n",
    "                y += edge[i][1]\n",
    "                count += 1\n",
    "                print(flag[f],count)\n",
    "                print(\"({},{})\".format(x,y),matrix[x][y])\n",
    "                answer.append(matrix[x][y])\n",
    "\n",
    "                if len(matrix) == len(answer):\n",
    "                    break\n",
    "\n",
    "                if flag[f] == count:\n",
    "                    print('실행')\n",
    "                    count = 0\n",
    "                    \n",
    "                    if i == 3:\n",
    "                        i = -1\n",
    "                    f += 1\n",
    "                    i += 1\n",
    "                    print('change',edge[i])\n",
    "        return answer"
   ]
  },
  {
   "cell_type": "code",
   "execution_count": 1,
   "metadata": {},
   "outputs": [
    {
     "name": "stdout",
     "output_type": "stream",
     "text": [
      "1 1\n",
      "2 2\n",
      "3 3\n"
     ]
    }
   ],
   "source": [
    "list1 = [1,2,3,4]\n",
    "list2 = [1,2,3]\n",
    "\n",
    "for l1,l2 in zip(list1,list2):\n",
    "    print(l1,l2)"
   ]
  },
  {
   "cell_type": "code",
   "execution_count": null,
   "metadata": {},
   "outputs": [],
   "source": []
  }
 ],
 "metadata": {
  "kernelspec": {
   "display_name": "Python 3.8.3 ('base')",
   "language": "python",
   "name": "python3"
  },
  "language_info": {
   "codemirror_mode": {
    "name": "ipython",
    "version": 3
   },
   "file_extension": ".py",
   "mimetype": "text/x-python",
   "name": "python",
   "nbconvert_exporter": "python",
   "pygments_lexer": "ipython3",
   "version": "3.8.3"
  },
  "orig_nbformat": 4,
  "vscode": {
   "interpreter": {
    "hash": "dcfd41fce1e84fe5854a6f55d82c3c14a68dcbcbf7bbebc76d7a18baf5e9f28d"
   }
  }
 },
 "nbformat": 4,
 "nbformat_minor": 2
}
