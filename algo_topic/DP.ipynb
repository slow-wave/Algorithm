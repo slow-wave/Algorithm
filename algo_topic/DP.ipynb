{
 "cells": [
  {
   "cell_type": "markdown",
   "metadata": {},
   "source": [
    "## DP 연습 - fibonacci(bottom-up)"
   ]
  },
  {
   "cell_type": "code",
   "execution_count": 1,
   "metadata": {},
   "outputs": [
    {
     "name": "stdout",
     "output_type": "stream",
     "text": [
      "8\n"
     ]
    }
   ],
   "source": [
    "def memorization_fibo(n):\n",
    "\tmemo[0] = 1\n",
    "\tmemo[1] = 1\n",
    "\n",
    "\tif n < 2:\n",
    "\t\treturn memo[n]\n",
    "\t\n",
    "\tfor i in range(2,n+1):\n",
    "\t\tmemo[i] = memo[i-2] + memo[i-1]\n",
    "\t\n",
    "\treturn memo[n]\n",
    "\n",
    "if __name__ == \"__main__\":\n",
    "\tn = int(input())\n",
    "\tmemo = [0 for i in range(n+2)]\n",
    "\tprint(memorization_fibo(n))"
   ]
  },
  {
   "cell_type": "markdown",
   "metadata": {},
   "source": [
    "## DP 연습 - fibonacci (top-down)"
   ]
  },
  {
   "cell_type": "code",
   "execution_count": 4,
   "metadata": {},
   "outputs": [
    {
     "name": "stdout",
     "output_type": "stream",
     "text": [
      "3\n"
     ]
    }
   ],
   "source": [
    "def fibonacci_top_down(n):\n",
    "    if memo[n] > 0:\n",
    "        return memo[n]\n",
    "\n",
    "    if n <= 1:\n",
    "        memo[n] = n\n",
    "        return memo[n]\n",
    "\n",
    "    else:\n",
    "        memo[n] = fibonacci_top_down(n-1) + fibonacci_top_down(n-2)\n",
    "\n",
    "    return memo[n]\n",
    "\n",
    "if __name__ == \"__main__\":\n",
    "\tmemo = [0 for i in range(100)]\n",
    "\tn = int(input())\n",
    "\tprint(fibonacci_top_down(n))"
   ]
  },
  {
   "cell_type": "markdown",
   "metadata": {},
   "source": [
    "## 프로그래머스 - N으로 표현\n",
    "https://school.programmers.co.kr/learn/courses/30/lessons/42895#"
   ]
  },
  {
   "cell_type": "code",
   "execution_count": 30,
   "metadata": {},
   "outputs": [
    {
     "name": "stdout",
     "output_type": "stream",
     "text": [
      "[20, 10, 3, 75, 155, 10, 0, 1, 25, 55, 7, -3, 0, 10, 25, 55, 45, 10, 250, 505, 110, 100, 21, 525, 1055, 10, 0, 1, 25, 55, 0, -10, -1, -25, -55, 5, -5, 0, 0, 5, 5, -5, 0, 0, 5, 10, 0, 1, 25, 55, 11, 1, 1, 30, 65, 1, -9, -1, -20, -45, 5, -5, 0, 0, 5, 10, 0, 1, 25, 55, 20, 10, 3, 75, 155, 35, 25, 6, 150, 305, 25, 15, 4, 100, 205, 10, 0, 1, 25, 55, 130, 120, 25, 625, 1255, 260, 250, 51, 1275, 2555, 65, 55, 12, 300, 605, 55, 45, 10, 250, 505, 16, 6, 2, 55, 115, 280, 270, 55, 1375, 2755, 560, 550, 111, 2775, 5555]\n"
     ]
    },
    {
     "data": {
      "text/plain": [
       "4"
      ]
     },
     "execution_count": 30,
     "metadata": {},
     "output_type": "execute_result"
    }
   ],
   "source": [
    "def solution(N,target):\n",
    "    memo[1] = [N]\n",
    "    memo[2] = [N + N, N - N, N//N, N*N,int(str(N) + str(N))]\n",
    "\n",
    "    for i in range(3,8):\n",
    "        for j in memo[i-1]:\n",
    "            memo[i] += [j + N, j - N, j//N, j*N,int(str(j) + str(N))]\n",
    "        \n",
    "\n",
    "        if target in memo[i]:\n",
    "            print(memo[i])\n",
    "            return i\n",
    "\n",
    "memo = [[] for i in range(8)]\n",
    "target = 12\n",
    "solution(N,target)"
   ]
  },
  {
   "cell_type": "code",
   "execution_count": 18,
   "metadata": {},
   "outputs": [
    {
     "name": "stdout",
     "output_type": "stream",
     "text": [
      "수- 3\n",
      "1 2\n",
      "수- 4\n",
      "1 3\n",
      "2 2\n",
      "수- 5\n",
      "1 4\n",
      "2 3\n",
      "5\n"
     ]
    }
   ],
   "source": [
    "def calculate(t,N):\n",
    "    try:\n",
    "        return [t + N, t - N, t//N, t*N,int(str(t) + str(N))]\n",
    "    except:\n",
    "        print(t,N)\n",
    "        return [t + N, t - N, t*N,int(str(t) + str(N))]\n",
    "\n",
    "\n",
    "def find_min(N,target):\n",
    "    memo[1] = [N]\n",
    "    memo[2] = calculate(N,N)\n",
    "\n",
    "    count = 4\n",
    "    for j in range(3,count):\n",
    "        print('수-',j)\n",
    "        for i in range(1,j//2+1):\n",
    "            print(i,j-i)\n",
    "            for a in memo[i]:\n",
    "                for b in memo[j-1]:\n",
    "                    memo[j] += [a+b]\n",
    "                    memo[j] += [a-b]\n",
    "                    memo[j] += [a*b]\n",
    "                    try:\n",
    "                        memo[j] += [a//b]\n",
    "                    except:\n",
    "                        pass\n",
    "                    \n",
    "                    try:\n",
    "                        memo[j] += int(str(a) + str(b))\n",
    "                    except:\n",
    "                        pass\n",
    "        \n",
    "        if target in memo[j]:\n",
    "            return j\n",
    "    return -1\n",
    "\n",
    "N,target = 5,12\n",
    "memo = [[] for i in range(9)]\n",
    "\n",
    "print(find_min(5,12))"
   ]
  },
  {
   "cell_type": "markdown",
   "metadata": {},
   "source": [
    "- 정답 코드"
   ]
  },
  {
   "cell_type": "code",
   "execution_count": 123,
   "metadata": {},
   "outputs": [
    {
     "data": {
      "text/plain": [
       "4"
      ]
     },
     "execution_count": 123,
     "metadata": {},
     "output_type": "execute_result"
    }
   ],
   "source": [
    "def solution(N,number):\n",
    "    if N == number:\n",
    "        return 1\n",
    "        \n",
    "    def find_min(N,target):\n",
    "        for i in range(1, 8):\n",
    "            for j in range(i):\n",
    "                for a in memo[j]:\n",
    "                    for b in memo[i-j-1]:\n",
    "                        memo[i].add(a+b)\n",
    "                        memo[i].add(a-b)\n",
    "                        memo[i].add(a*b)\n",
    "\n",
    "                        if b!=0:\n",
    "                            memo[i].add(a//b)\n",
    "\n",
    "            if target in memo[i]:\n",
    "                return i + 1\n",
    "        return -1\n",
    "\n",
    "    memo = [set() for _ in range(9)]\n",
    "\n",
    "    for i,x in enumerate(memo, start=1):\n",
    "        x.add( int( str(N) * i ) )\n",
    "        \n",
    "    return find_min(N,number)\n",
    "\n",
    "N,number = 5,12\n",
    "solution(N,number)"
   ]
  }
 ],
 "metadata": {
  "kernelspec": {
   "display_name": "Python 3.8.3 ('base')",
   "language": "python",
   "name": "python3"
  },
  "language_info": {
   "codemirror_mode": {
    "name": "ipython",
    "version": 3
   },
   "file_extension": ".py",
   "mimetype": "text/x-python",
   "name": "python",
   "nbconvert_exporter": "python",
   "pygments_lexer": "ipython3",
   "version": "3.8.3"
  },
  "orig_nbformat": 4,
  "vscode": {
   "interpreter": {
    "hash": "dcfd41fce1e84fe5854a6f55d82c3c14a68dcbcbf7bbebc76d7a18baf5e9f28d"
   }
  }
 },
 "nbformat": 4,
 "nbformat_minor": 2
}
