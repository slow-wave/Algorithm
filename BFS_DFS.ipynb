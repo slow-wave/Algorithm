{
 "cells": [
  {
   "cell_type": "markdown",
   "metadata": {},
   "source": [
    "# Table of Contents in this notebook \n",
    "\n",
    "* [1. QUEUE](#QUEUE)\n",
    "    * [list 사용](#chapter1-1)\n",
    "    * [deque collections 사용](#chapter1-2)\n",
    "    * [queue 사용](#chapter1-3)\n",
    "    * [queue 구현 문제](#chapter1-4)\n",
    "* [BFS,DFS 구현](#chapter2)\n",
    "    * [DFS(Recursion)](#section2-1)\n",
    "    * [DFS (내부 list로 구현)](#section2-2)\n",
    "    * [BFS](#section2-3)\n",
    "* [알고리즘 문제 풀이 (BFS/DFS)](#chapter3)\n",
    "    * [백준 - 1260번 DFS와 BFS](#section3-1)\n",
    "    * [백준 - 미로찾기](#section3-2)\n",
    "    * [백준 - 1697번 숨바꼭질](#section3-3)\n",
    "    * [백준 - 1012번 유기농배추](#section3-4)\n",
    "    * [백준 - 11724번 연결 요소의 개수](#section3-5)\n",
    "    * [백준 - 2667번 단지번호붙이기](#section3-6)\n",
    "    * [프로그래머스 - 타겟넘버](#section3-7)\n",
    "    * [프로그래머스 - 네트워크](#section3-8)\n",
    "    * [프로그래머스 - 게임 맵 최단거리](#section3-9)    \n",
    "    * [프로그래머스 - 단어 변환](#section3-10)"
   ]
  },
  {
   "cell_type": "markdown",
   "metadata": {},
   "source": [
    "# QUEUE"
   ]
  },
  {
   "cell_type": "markdown",
   "metadata": {},
   "source": [
    "## list 사용"
   ]
  },
  {
   "cell_type": "code",
   "execution_count": 113,
   "metadata": {},
   "outputs": [
    {
     "name": "stdout",
     "output_type": "stream",
     "text": [
      "[1, 2, 3, 4, 5]\n",
      "1\n",
      "2\n",
      "3\n",
      "4\n",
      "5\n",
      "[]\n"
     ]
    }
   ],
   "source": [
    "class ListQueue(object):\n",
    "    def __init__(self):\n",
    "        self.queue = []\n",
    "\n",
    "    def dequeue(self):\n",
    "        return self.queue.pop(0)\n",
    "    \n",
    "    def enqueue(self,n):\n",
    "        self.queue.append(n)\n",
    "\n",
    "    def printQueue(self):\n",
    "        print(self.queue)\n",
    "\n",
    "if __name__ == \"__main__\":\n",
    "    lq = ListQueue()\n",
    "    lq.enqueue(1)\n",
    "    lq.enqueue(2)\n",
    "    lq.enqueue(3)\n",
    "    lq.enqueue(4)\n",
    "    lq.enqueue(5)\n",
    "    lq.printQueue()\n",
    "    print(lq.dequeue())\n",
    "    print(lq.dequeue())\n",
    "    print(lq.dequeue())\n",
    "    print(lq.dequeue())\n",
    "    print(lq.dequeue())\n",
    "    lq.printQueue()\n"
   ]
  },
  {
   "cell_type": "markdown",
   "metadata": {},
   "source": [
    "## deque collections 사용"
   ]
  },
  {
   "cell_type": "code",
   "execution_count": 115,
   "metadata": {},
   "outputs": [
    {
     "name": "stdout",
     "output_type": "stream",
     "text": [
      "1\n",
      "2\n",
      "3\n",
      "deque([])\n"
     ]
    }
   ],
   "source": [
    "from collections import deque\n",
    "\n",
    "dq = deque([])\n",
    "\n",
    "dq.append(1)\n",
    "dq.append(2)\n",
    "dq.append(3)\n",
    "\n",
    "print(dq.popleft())\n",
    "print(dq.popleft())\n",
    "print(dq.popleft())\n",
    "print(dq)\n",
    "\n"
   ]
  },
  {
   "cell_type": "markdown",
   "metadata": {},
   "source": [
    "## queue 사용 <a class=\"anchor\" id=\"chapter1-3\"></a>"
   ]
  },
  {
   "cell_type": "code",
   "execution_count": 116,
   "metadata": {},
   "outputs": [
    {
     "name": "stdout",
     "output_type": "stream",
     "text": [
      "1\n",
      "2\n",
      "3\n",
      "4\n"
     ]
    }
   ],
   "source": [
    "import queue\n",
    "\n",
    "q = queue.Queue()\n",
    "\n",
    "q.put(1)\n",
    "q.put(2)\n",
    "q.put(3)\n",
    "q.put(4)\n",
    "\n",
    "print(q.get())\n",
    "print(q.get())\n",
    "print(q.get())\n",
    "print(q.get())\n"
   ]
  },
  {
   "cell_type": "markdown",
   "metadata": {},
   "source": [
    "## queue 구현 문제 (백준) <a class=\"anchor\" id=\"chapter1-4\"></a>\n",
    "정수를 저장하는 큐를 구현한 다음, 입력으로 주어지는 명령을 처리하는 프로그램을 작성하시오.\n",
    "\n",
    "명령은 총 여섯 가지이다.\n",
    "\n",
    "push X: 정수 X를 큐에 넣는 연산이다.\n",
    "pop: 큐에서 가장 앞에 있는 정수를 빼고, 그 수를 출력한다. 만약 큐에 들어있는 정수가 없는 경우에는 -1을 출력한다.\n",
    "size: 큐에 들어있는 정수의 개수를 출력한다.\n",
    "empty: 큐가 비어있으면 1, 아니면 0을 출력한다.\n",
    "front: 큐의 가장 앞에 있는 정수를 출력한다. 만약 큐에 들어있는 정수가 없는 경우에는 -1을 출력한다.\n",
    "back: 큐의 가장 뒤에 있는 정수를 출력한다. 만약 큐에 들어있는 정수가 없는 경우에는 -1을 출력한다.\n",
    "\n",
    "<input>\n",
    "15\n",
    "push 1\n",
    "push 2\n",
    "front\n",
    "back\n",
    "size\n",
    "empty\n",
    "pop\n",
    "pop\n",
    "pop\n",
    "size\n",
    "empty\n",
    "pop\n",
    "push 3\n",
    "empty\n",
    "front\n",
    "\n",
    "<output>\n",
    "1\n",
    "2\n",
    "2\n",
    "0\n",
    "1\n",
    "2\n",
    "-1\n",
    "0\n",
    "1\n",
    "-1\n",
    "0\n",
    "3"
   ]
  },
  {
   "cell_type": "code",
   "execution_count": 145,
   "metadata": {},
   "outputs": [
    {
     "name": "stdout",
     "output_type": "stream",
     "text": [
      "1\n",
      "2\n",
      "2\n",
      "0\n",
      "1\n",
      "2\n",
      "-1\n",
      "0\n",
      "1\n",
      "-1\n",
      "0\n",
      "3\n"
     ]
    }
   ],
   "source": [
    "from collections import deque\n",
    "from sys import stdin\n",
    "\n",
    "count = int(input())\n",
    "queue = deque([])\n",
    "\n",
    "for i in range(count):\n",
    "    order = stdin.readline().split()\n",
    "    if order[0] == \"push\":\n",
    "        queue.append(int(order[1]))\n",
    "    \n",
    "    elif order[0] == \"size\":\n",
    "        print(len(queue))\n",
    "\n",
    "    elif order[0] == \"pop\":\n",
    "        if not queue:\n",
    "            print(-1)\n",
    "        else:\n",
    "            print(queue.popleft())\n",
    "    \n",
    "    elif order[0] == \"empty\":\n",
    "        if len(queue) == 0:\n",
    "            print(1)\n",
    "        else:\n",
    "            print(0)\n",
    "\n",
    "    elif order[0] == \"front\":\n",
    "        if not queue:\n",
    "            print(-1)\n",
    "        else:\n",
    "            print(queue[0])\n",
    "    \n",
    "    elif order[0] == \"back\":\n",
    "        if not queue:\n",
    "            print(-1)\n",
    "        else:\n",
    "            print(queue[-1])\n",
    "    "
   ]
  },
  {
   "cell_type": "code",
   "execution_count": 142,
   "metadata": {},
   "outputs": [
    {
     "name": "stdout",
     "output_type": "stream",
     "text": [
      "1\n",
      "2\n",
      "2\n",
      "0\n",
      "1\n",
      "2\n",
      "-1\n",
      "0\n",
      "1\n",
      "-1\n",
      "0\n",
      "3\n"
     ]
    }
   ],
   "source": [
    "class Queue(object):\n",
    "    def __init__(self):\n",
    "        self.queue = []\n",
    "\n",
    "    #push X: 정수 X를 큐에 넣는 연산이다.\n",
    "    def push(self,x):\n",
    "        self.queue.append(x)\n",
    "\n",
    "    #pop: 큐에서 가장 앞에 있는 정수를 빼고, 그 수를 출력한다. 만약 큐에 들어있는 정수가 없는 경우에는 -1을 출력한다.\n",
    "    def pop(self):\n",
    "        if not self.queue:\n",
    "            return -1\n",
    "        return self.queue.pop(0)\n",
    "    #size: 큐에 들어있는 정수의 개수를 출력한다.\n",
    "    def size(self):\n",
    "        return len(self.queue)\n",
    "    #empty: 큐가 비어있으면 1, 아니면 0을 출력한다.\n",
    "    def isEmpty(self):\n",
    "        if len(self.queue) == 0:\n",
    "            return 1\n",
    "        else:\n",
    "            return 0\n",
    "    #front: 큐의 가장 앞에 있는 정수를 출력한다. 만약 큐에 들어있는 정수가 없는 경우에는 -1을 출력한다.\n",
    "    def front(self):\n",
    "        if not self.queue:\n",
    "            return -1\n",
    "        return self.queue[0]\n",
    "    #back: 큐의 가장 뒤에 있는 정수를 출력한다. 만약 큐에 들어있는 정수가 없는 경우에는 -1을 출력한다.\n",
    "    def back(self):\n",
    "        if not self.queue:\n",
    "            return -1\n",
    "        return self.queue[-1]\n",
    "\n",
    "if __name__ == \"__main__\" :\n",
    "    count = int(input())\n",
    "    queue = Queue()\n",
    "\n",
    "    for i in range(count):\n",
    "        order = input().split()\n",
    "        if order[0] == \"push\":\n",
    "            queue.push(int(order[1]))\n",
    "        \n",
    "        elif order[0] == \"size\":\n",
    "            print(queue.size())\n",
    "\n",
    "        elif order[0] == \"pop\":\n",
    "            print(queue.pop())\n",
    "        \n",
    "        elif order[0] == \"empty\":\n",
    "            print(queue.isEmpty())\n",
    "\n",
    "        elif order[0] == \"front\":\n",
    "            print(queue.front())\n",
    "        \n",
    "        elif order[0] == \"back\":\n",
    "            print(queue.back())\n",
    "    \n"
   ]
  },
  {
   "cell_type": "code",
   "execution_count": 129,
   "metadata": {},
   "outputs": [
    {
     "name": "stdout",
     "output_type": "stream",
     "text": [
      "[1]\n"
     ]
    },
    {
     "data": {
      "text/plain": [
       "[1]"
      ]
     },
     "execution_count": 129,
     "metadata": {},
     "output_type": "execute_result"
    }
   ],
   "source": [
    "queue = Queue()\n",
    "queue.push(1)"
   ]
  },
  {
   "cell_type": "code",
   "execution_count": 121,
   "metadata": {},
   "outputs": [],
   "source": [
    "order = input().split()"
   ]
  },
  {
   "cell_type": "code",
   "execution_count": 122,
   "metadata": {},
   "outputs": [
    {
     "data": {
      "text/plain": [
       "['front']"
      ]
     },
     "execution_count": 122,
     "metadata": {},
     "output_type": "execute_result"
    }
   ],
   "source": [
    "order"
   ]
  },
  {
   "cell_type": "markdown",
   "metadata": {},
   "source": [
    "# BFS, DFS 구현 <a class=\"anchor\" id=\"chapter2\"></a>"
   ]
  },
  {
   "cell_type": "markdown",
   "metadata": {},
   "source": [
    "## DFS (Recursion) <a class=\"anchor\" id=\"chapter2-1\"></a>"
   ]
  },
  {
   "cell_type": "code",
   "execution_count": 5,
   "metadata": {},
   "outputs": [
    {
     "name": "stdout",
     "output_type": "stream",
     "text": [
      "<__main__.Graph object at 0x108f9d220>\n",
      "Following is DFS from (starting from vertex 2)\n",
      "2\n",
      "0\n",
      "1\n",
      "3\n"
     ]
    }
   ],
   "source": [
    "# Python3 program to print DFS traversal\n",
    "# from a given  graph\n",
    "from collections import defaultdict\n",
    " \n",
    "# This class represents a directed graph using\n",
    "# adjacency list representation\n",
    " \n",
    " \n",
    "class Graph:\n",
    " \n",
    "    # Constructor\n",
    "    def __init__(self):\n",
    " \n",
    "        # default dictionary to store graph\n",
    "        self.graph = defaultdict(list)\n",
    " \n",
    "    # function to add an edge to graph\n",
    "    def addEdge(self, u, v):\n",
    "        self.graph[u].append(v)\n",
    " \n",
    "    # A function used by DFS\n",
    "    def DFSUtil(self, v, visited):\n",
    " \n",
    "        # Mark the current node as visited\n",
    "        # and print it\n",
    "        visited.add(v)\n",
    "        print(v)\n",
    " \n",
    "        # Recur for all the vertices\n",
    "        # adjacent to this vertex\n",
    "        for neighbour in self.graph[v]:\n",
    "            if neighbour not in visited:\n",
    "                self.DFSUtil(neighbour, visited)\n",
    " \n",
    "    # The function to do DFS traversal. It uses\n",
    "    # recursive DFSUtil()\n",
    "    def DFS(self, v):\n",
    " \n",
    "        # Create a set to store visited vertices\n",
    "        visited = set()\n",
    " \n",
    "        # Call the recursive helper function\n",
    "        # to print DFS traversal\n",
    "        self.DFSUtil(v, visited)\n",
    " \n",
    "# Driver code\n",
    " \n",
    " \n",
    "# Create a graph given\n",
    "# in the above diagram\n",
    "g = Graph()\n",
    "g.addEdge(0, 1)\n",
    "g.addEdge(0, 2)\n",
    "g.addEdge(1, 2)\n",
    "g.addEdge(2, 0)\n",
    "g.addEdge(2, 3)\n",
    "g.addEdge(3, 3)\n",
    "print(\"Following is DFS from (starting from vertex 2)\")\n",
    "g.DFS(2)"
   ]
  },
  {
   "cell_type": "code",
   "execution_count": 2,
   "metadata": {},
   "outputs": [],
   "source": [
    "graph_list = {1: set([3, 4]),\n",
    "              2: set([3, 4, 5]),\n",
    "              3: set([1, 5]),\n",
    "              4: set([1]),\n",
    "              5: set([2, 6]),\n",
    "              6: set([3, 5])}\n",
    "root_node = 1"
   ]
  },
  {
   "cell_type": "code",
   "execution_count": 9,
   "metadata": {},
   "outputs": [],
   "source": [
    "def dfs_recursive(graph, start, visited=[]):\n",
    "    \n",
    "    visited.append(start) ## ★★★★★\n",
    "    \n",
    "    for node in graph[start]:\n",
    "        if node not in visited:\n",
    "            dfs_recursive(graph, node, visited) ## ★★★★★\n",
    "    \n",
    "    return visited\n"
   ]
  },
  {
   "cell_type": "code",
   "execution_count": 10,
   "metadata": {},
   "outputs": [
    {
     "data": {
      "text/plain": [
       "[1, 3, 5, 2, 4, 6]"
      ]
     },
     "execution_count": 10,
     "metadata": {},
     "output_type": "execute_result"
    }
   ],
   "source": [
    "dfs_recursive(graph_list, root_node)"
   ]
  },
  {
   "cell_type": "markdown",
   "metadata": {},
   "source": [
    "## DFS (내부 list로 구현) <a class=\"anchor\" id=\"chapter2-2\"></a>"
   ]
  },
  {
   "cell_type": "code",
   "execution_count": 3,
   "metadata": {},
   "outputs": [
    {
     "name": "stdout",
     "output_type": "stream",
     "text": [
      "[1, 4, 3, 5, 6, 2]\n"
     ]
    }
   ],
   "source": [
    "def DFS_with_adj_list(graph, root):\n",
    "    visited = []\n",
    "    stack = [root]\n",
    "\n",
    "    while stack:\n",
    "        n = stack.pop()\n",
    "        if n not in visited:\n",
    "            visited.append(n)\n",
    "            stack += graph[n] - set(visited)\n",
    "    return visited\n",
    "\n",
    "print(DFS_with_adj_list(graph_list, root_node))"
   ]
  },
  {
   "cell_type": "markdown",
   "metadata": {},
   "source": [
    "## BFS <a class=\"anchor\" id=\"chapter2-3\"></a>"
   ]
  },
  {
   "cell_type": "code",
   "execution_count": 4,
   "metadata": {},
   "outputs": [
    {
     "name": "stdout",
     "output_type": "stream",
     "text": [
      "[1, 3, 4, 5, 2, 6]\n"
     ]
    }
   ],
   "source": [
    "from collections import deque\n",
    "\n",
    "def BFS_with_adj_list(graph, root):\n",
    "    visited = []\n",
    "    queue = deque([root])\n",
    "\n",
    "    while queue:\n",
    "        n = queue.popleft()\n",
    "        if n not in visited:\n",
    "            visited.append(n)\n",
    "            queue += graph[n] - set(visited)\n",
    "    return visited\n",
    "  \n",
    "print(BFS_with_adj_list(graph_list, root_node))"
   ]
  },
  {
   "cell_type": "markdown",
   "metadata": {},
   "source": [
    "# 알고리즘 문제 풀이 (BFS/DFS) <a class=\"anchor\" id=\"chapter3\"></a>"
   ]
  },
  {
   "cell_type": "markdown",
   "metadata": {},
   "source": [
    "## 백준 - 1260번 DFS와 BFS <a class=\"anchor\" id=\"chapter3-1\"></a>\n",
    "\n",
    "<input>\n",
    "4 5 1\n",
    "1 2\n",
    "1 3\n",
    "1 4\n",
    "2 4\n",
    "3 4\n",
    "\n",
    "<output>\n",
    "1 2 4 3\n",
    "1 2 3 4"
   ]
  },
  {
   "cell_type": "code",
   "execution_count": 21,
   "metadata": {},
   "outputs": [
    {
     "ename": "KeyboardInterrupt",
     "evalue": "",
     "output_type": "error",
     "traceback": [
      "\u001b[0;31m---------------------------------------------------------------------------\u001b[0m",
      "\u001b[0;31mKeyboardInterrupt\u001b[0m                         Traceback (most recent call last)",
      "\u001b[1;32m/Users/minji/coding/algorithm/BFS_DFS.ipynb 셀 25\u001b[0m in \u001b[0;36m<cell line: 34>\u001b[0;34m()\u001b[0m\n\u001b[1;32m     <a href='vscode-notebook-cell:/Users/minji/coding/algorithm/BFS_DFS.ipynb#X60sZmlsZQ%3D%3D?line=30'>31</a>\u001b[0m     \u001b[39mreturn\u001b[39;00m \u001b[39m\"\u001b[39m\u001b[39m \u001b[39m\u001b[39m\"\u001b[39m\u001b[39m.\u001b[39mjoin(\u001b[39mstr\u001b[39m(i) \u001b[39mfor\u001b[39;00m i \u001b[39min\u001b[39;00m visited)\n\u001b[1;32m     <a href='vscode-notebook-cell:/Users/minji/coding/algorithm/BFS_DFS.ipynb#X60sZmlsZQ%3D%3D?line=32'>33</a>\u001b[0m \u001b[39minput\u001b[39m \u001b[39m=\u001b[39m sys\u001b[39m.\u001b[39mstdin\u001b[39m.\u001b[39mreadline\n\u001b[0;32m---> <a href='vscode-notebook-cell:/Users/minji/coding/algorithm/BFS_DFS.ipynb#X60sZmlsZQ%3D%3D?line=33'>34</a>\u001b[0m N, M, V \u001b[39m=\u001b[39m \u001b[39mmap\u001b[39m(\u001b[39mint\u001b[39m,\u001b[39minput\u001b[39;49m()\u001b[39m.\u001b[39msplit())\n\u001b[1;32m     <a href='vscode-notebook-cell:/Users/minji/coding/algorithm/BFS_DFS.ipynb#X60sZmlsZQ%3D%3D?line=35'>36</a>\u001b[0m \u001b[39m#그래프 만들기 - 각 노드마다 연결된 노드를 표시해준다. \u001b[39;00m\n\u001b[1;32m     <a href='vscode-notebook-cell:/Users/minji/coding/algorithm/BFS_DFS.ipynb#X60sZmlsZQ%3D%3D?line=36'>37</a>\u001b[0m graph \u001b[39m=\u001b[39m {}\n",
      "\u001b[0;31mKeyboardInterrupt\u001b[0m: "
     ]
    }
   ],
   "source": [
    "#두번째\n",
    "from collections import deque\n",
    "import sys\n",
    "\n",
    "#DFS\n",
    "def DFS(graph, root, visited =[]):\n",
    "    stack = [root] #stack을 생성하고 root push\n",
    "\n",
    "    while stack:\n",
    "        n = stack.pop() \n",
    "        if n not in visited:\n",
    "            visited.append(n) #visited에 표시\n",
    "            if n in graph:\n",
    "                temp = list(set(graph[n]) - set(visited)) \n",
    "                temp.sort(reverse = True) #내림차순으로 졍럴 - stack의 Top에 숫자가 작은 것이 위치하게된다. \n",
    "                stack += temp #stack에 push\n",
    "    return \" \".join(str(i) for i in visited)\n",
    "\n",
    "#BFS\n",
    "def BFS(graph, root, visited = []):\n",
    "    queue = deque([root]) #queue를 생성하고 root push\n",
    "\n",
    "    while queue:\n",
    "        n = queue.popleft()\n",
    "\n",
    "        if n not in visited:\n",
    "            visited.append(n) #visited에 표시\n",
    "            if n in graph:\n",
    "                temp = list(set(graph[n]) - set(visited))\n",
    "                temp.sort() #오름차순으로 졍럴 - queue의 Bottom에 숫자가 작은 것이 위치하게된다. \n",
    "                queue += temp #queue에 push\n",
    "    return \" \".join(str(i) for i in visited)\n",
    "\n",
    "input = sys.stdin.readline\n",
    "N, M, V = map(int,input().split())\n",
    "\n",
    "#그래프 만들기 - 각 노드마다 연결된 노드를 표시해준다. \n",
    "graph = {}\n",
    "for i in range(M):\n",
    "    n1, n2 = map(int,input().split())\n",
    "    graph[n1] = graph.get(n1,[]) + [n2]\n",
    "    graph[n2] = graph.get(n2,[]) + [n1]\n",
    "\n",
    "print(DFS(graph, V))\n",
    "print(BFS(graph, V))"
   ]
  },
  {
   "cell_type": "code",
   "execution_count": null,
   "metadata": {},
   "outputs": [
    {
     "name": "stdout",
     "output_type": "stream",
     "text": [
      "{999: [1000], 1000: [999]}\n",
      "1\n",
      "1\n"
     ]
    }
   ],
   "source": [
    "from collections import deque\n",
    "\n",
    "def DFS(graph, root, visited = []):\n",
    "    stack = [root]\n",
    "\n",
    "    while stack:\n",
    "        n = stack.pop()\n",
    "        \n",
    "        if n not in visited:\n",
    "            visited.append(n)\n",
    "            if n in graph:\n",
    "                temp = list(set(graph[n]) - set(visited))\n",
    "                temp.sort(reverse = True)\n",
    "                stack += temp\n",
    "\n",
    "    return \" \".join(str(i) for i in visited)\n",
    "\n",
    "def BFS(graph, root, visited = []):\n",
    "    queue = deque([root])\n",
    "    \n",
    "    while queue:\n",
    "        n = queue.popleft()\n",
    "\n",
    "        if n not in visited:\n",
    "            visited.append(n)\n",
    "            if n in graph:\n",
    "                temp = list(set(graph[n]) - set(visited))\n",
    "                temp.sort()\n",
    "                queue += temp\n",
    "\n",
    "    return \" \".join(str(i) for i in visited)\n",
    " \n",
    "if __name__ == '__main__':\n",
    "    node_len, edge_len, root = map(int,input().split())\n",
    "    graph = {}\n",
    "\n",
    "\n",
    "    for i in range(edge_len):\n",
    "        node1, node2 = map(int,input().split())\n",
    "        graph[node1] = graph.get(node1,[]) + [node2] \n",
    "        graph[node2] = graph.get(node2,[]) + [node1] \n",
    "\n",
    "    print(DFS(graph, root))\n",
    "    print(BFS(graph, root))"
   ]
  },
  {
   "cell_type": "markdown",
   "metadata": {},
   "source": [
    "## 백준 - 미로 찾기 <a class=\"anchor\" id=\"chapter3-2\"></a>\n",
    "https://www.acmicpc.net/problem/2178\n",
    "\n",
    "<input>\n",
    "4 6\n",
    "101111\n",
    "101010\n",
    "101011\n",
    "111011\n",
    "\n",
    "<ouput>\n",
    "15\n",
    "\n",
    "<input>\n",
    "2 25\n",
    "1011101110111011101110111\n",
    "1110111011101110111011101\n",
    "<output>\n",
    "38\n",
    "\n",
    "<input >\n",
    "4 6\n",
    "110110\n",
    "110110\n",
    "111111\n",
    "111101\n",
    "<output>\n",
    "9"
   ]
  },
  {
   "cell_type": "code",
   "execution_count": null,
   "metadata": {},
   "outputs": [],
   "source": [
    "from collections import deque\n",
    "\n",
    "def BFS(x,y,graph):\n",
    "    child = []\n",
    "\n",
    "    queue = deque([(0,0)])\n",
    "\n",
    "    dx = [-1,1,0,0] \n",
    "    dy = [0,0,-1,1]\n",
    "\n",
    "    while queue:\n",
    "        x,y = queue.popleft()\n",
    "        child = []\n",
    "        print(x,y)\n",
    "        for i in range(4):\n",
    "            nx = x + dx[i]\n",
    "            ny = y + dy[i]\n",
    "\n",
    "            if nx < 0 or ny < 0 or nx >= r or ny >= c:\n",
    "                continue\n",
    "            \n",
    "            if graph[nx][ny] == 0:\n",
    "                continue\n",
    "\n",
    "            if graph[nx][ny] ==1:\n",
    "                graph[nx][ny] = graph[x][y] + 1\n",
    "                queue.append((nx,ny))\n",
    "                print(graph)\n",
    "    return graph[r-1][c-1]\n"
   ]
  },
  {
   "cell_type": "code",
   "execution_count": null,
   "metadata": {},
   "outputs": [
    {
     "name": "stdout",
     "output_type": "stream",
     "text": [
      "0 0\n",
      "[[1, 1, 0], [2, 1, 0], [1, 1, 1]]\n",
      "[[1, 2, 0], [2, 1, 0], [1, 1, 1]]\n",
      "1 0\n",
      "[[3, 2, 0], [2, 1, 0], [1, 1, 1]]\n",
      "[[3, 2, 0], [2, 1, 0], [3, 1, 1]]\n",
      "[[3, 2, 0], [2, 3, 0], [3, 1, 1]]\n",
      "0 1\n",
      "0 0\n",
      "2 0\n",
      "[[3, 2, 0], [2, 3, 0], [3, 4, 1]]\n",
      "1 1\n",
      "2 1\n",
      "[[3, 2, 0], [2, 3, 0], [3, 4, 5]]\n",
      "2 2\n",
      "5\n"
     ]
    }
   ],
   "source": [
    "if __name__ == '__main__':\n",
    "    #matrix 만드는 부분\n",
    "    r,c= map(int, input().split())\n",
    "\n",
    "    graph = []\n",
    "\n",
    "    for i in range(r):\n",
    "        input_str = input()\n",
    "        graph.append([int(s) for s in input_str])\n",
    "        \n",
    "    print(BFS(r,c,graph))"
   ]
  },
  {
   "cell_type": "code",
   "execution_count": 18,
   "metadata": {},
   "outputs": [
    {
     "name": "stdout",
     "output_type": "stream",
     "text": [
      "15\n"
     ]
    }
   ],
   "source": [
    "#두번째\n",
    "\n",
    "from collections import deque\n",
    "\n",
    "def bfs(root):\n",
    "    queue = deque([root]) #큐를 생성해서 root push\n",
    "    \n",
    "    while queue:\n",
    "        x,y = queue.popleft() #pop - 기본 좌표가 나옴\n",
    "        \n",
    "        #상하좌우 이동\n",
    "        for i in range(4):\n",
    "            nx = x + dx[i] \n",
    "            ny = y + dy[i]\n",
    "            #좌표 밖을 벗어나면 넘어감\n",
    "            if nx < 0 or ny < 0 or nx >= N or ny >= M:\n",
    "                continue\n",
    "            \n",
    "            if graph[nx][ny] == 1: #만약 이동한 좌표의 값이 1이라면\n",
    "                graph[nx][ny] = graph[x][y] + 1 #이동한 좌표의 값에 기본 좌표 값에 1을 더함\n",
    "                queue.append([nx,ny]) #좌표를 queue에 push\n",
    "    \n",
    "    return graph[N-1][M-1] #도착 지점의 값을 리턴함\n",
    "\n",
    "graph,root = [],[0,0]\n",
    "N,M = map(int,input().split())\n",
    "\n",
    "#graph 만들기\n",
    "for i in range(N):\n",
    "    line = input()\n",
    "    graph.append([int(i) for i in line])\n",
    "\n",
    "#좌표 상화좌우 이동을 위한 dx,dy\n",
    "dx = [-1,1,0,0] \n",
    "dy = [0,0,-1,1]\n",
    "\n",
    "print(bfs(root))"
   ]
  },
  {
   "cell_type": "markdown",
   "metadata": {},
   "source": [
    "## 백준 - 1697번 숨바꼭질 <a class=\"anchor\" id=\"chapter3-3\"></a>\n",
    "- https://www.acmicpc.net/problem/1697"
   ]
  },
  {
   "cell_type": "code",
   "execution_count": 19,
   "metadata": {},
   "outputs": [
    {
     "name": "stdout",
     "output_type": "stream",
     "text": [
      "4\n"
     ]
    }
   ],
   "source": [
    "# 두번째\n",
    "from collections import deque\n",
    "\n",
    "n, k = 5,17\n",
    "\n",
    "queue = deque([n])\n",
    "maxnum = 10000\n",
    "visited = [0]*(maxnum+1)\n",
    "\n",
    "while queue:\n",
    "    x = queue.popleft()\n",
    "\n",
    "    if x == k:\n",
    "        print(visited[x])\n",
    "        break\n",
    "\n",
    "    for j in (x-1, x+1, x*2):\n",
    "        if 0 <= j <= maxnum and not visited[j]:\n",
    "            visited[j] = visited[x] + 1\n",
    "            queue.append(j)\n"
   ]
  },
  {
   "cell_type": "code",
   "execution_count": null,
   "metadata": {},
   "outputs": [
    {
     "name": "stdout",
     "output_type": "stream",
     "text": [
      "4\n"
     ]
    }
   ],
   "source": [
    "from collections import deque\n",
    "\n",
    "n,k = map(int,input().split())\n",
    "#움직일 수 있는 최대 좌표는 100000\n",
    "max_num = 100000\n",
    "visited = [0] * (max_num + 1)\n",
    "\n",
    "def bfs(n,k):\n",
    "    q = deque()\n",
    "    q.append(n)\n",
    "    while q:\n",
    "        x = q.popleft()\n",
    "        #수빈이의 위치가 k와 같아지면\n",
    "        if x == k:\n",
    "            return visited[x]\n",
    "        #수빈이의 위치 이동\n",
    "        for j in (x-1, x+1, x*2):\n",
    "            #주어진 위치에 있고 아직 방문하지 않았다면\n",
    "            if 0 <= j <= max_num and not visited[j]:\n",
    "                #이동한 위치에 현재 시간을 표시한다. \n",
    "                visited[j] = visited[x] + 1\n",
    "                q.append(j)\n",
    "\n",
    "print(bfs(n,k))"
   ]
  },
  {
   "cell_type": "code",
   "execution_count": null,
   "metadata": {},
   "outputs": [],
   "source": []
  },
  {
   "cell_type": "markdown",
   "metadata": {},
   "source": [
    "## 백준 - 1012번 유기농배추 <a class=\"anchor\" id=\"chapter3-4\"></a>\n",
    "https://www.acmicpc.net/problem/1012\n",
    "<input>\n",
    "10 8 17\n",
    "0 0\n",
    "1 0\n",
    "1 1\n",
    "4 2\n",
    "4 3\n",
    "4 5\n",
    "2 4\n",
    "3 4\n",
    "7 4\n",
    "8 4\n",
    "9 4\n",
    "7 5\n",
    "8 5\n",
    "9 5\n",
    "7 6\n",
    "8 6\n",
    "9 6\n",
    "<output>\n",
    "5"
   ]
  },
  {
   "cell_type": "code",
   "execution_count": 11,
   "metadata": {},
   "outputs": [
    {
     "name": "stdout",
     "output_type": "stream",
     "text": [
      "2\n",
      "2\n"
     ]
    }
   ],
   "source": [
    "#두번째\n",
    "from collections import deque\n",
    "def bfs(x,y):\n",
    "    #queue 선언 후 root push\n",
    "    queue = deque([(x,y)])\n",
    "\n",
    "    #queue에 원소가 있는 동안\n",
    "    while queue:\n",
    "        #좌표 1개 pop\n",
    "        x,y = queue.popleft()\n",
    "        #좌표 이동을 위한 변수 dx,dy\n",
    "        dx = [-1, 1, 0, 0]\n",
    "        dy = [0, 0, -1, 1]\n",
    "        #상하좌우 옮기는 동안\n",
    "        for i in range(4):\n",
    "            nx = x + dx[i] \n",
    "            ny = y + dy[i]\n",
    "            #만약 좌표 밖으로 나가지 않고 옮겨진 좌표의 위치에 배추가 심어져있다면\n",
    "            if 0 <= nx < N and 0 <= ny < M and graph[nx][ny] == 1:\n",
    "                #queue에 좌표 push\n",
    "                queue.append((nx,ny))\n",
    "                #거쳐갔다는 것을 표시해줌\n",
    "                graph[nx][ny] = 0\n",
    "\n",
    "    return 1\n",
    "\n",
    "T = int(input())\n",
    "\n",
    "for i in range(T):\n",
    "    M,N,K = map(int, input().split())\n",
    "    #graph 생성\n",
    "    graph = [[0 for _ in range(M)] for _ in range(N)]\n",
    "    cnt = 0\n",
    "\n",
    "    #배추가 심어진 자리에 1넣기\n",
    "    for i in range(K):\n",
    "        y,x = map(int,input().split())\n",
    "        graph[x][y] = 1\n",
    "\n",
    "    for x in range(N):\n",
    "        for y in range(M):\n",
    "            #만약 배추가 심어져있으면 bfs 함수 실행\n",
    "            if graph[x][y] == 1:\n",
    "                cnt += bfs(x,y)\n",
    "    print(cnt)"
   ]
  },
  {
   "cell_type": "markdown",
   "metadata": {},
   "source": [
    "## 백준 - 11724번 연결 요소의 개수 <a class=\"anchor\" id=\"chapter3-5\"></a>\n",
    "https://www.acmicpc.net/problem/11724\n",
    "<input>\n",
    "6 5\n",
    "1 2\n",
    "2 5\n",
    "5 1\n",
    "3 4\n",
    "4 6\n",
    "\n",
    "<input>\n",
    "6 8\n",
    "1 2\n",
    "2 5\n",
    "5 1\n",
    "3 4\n",
    "4 6\n",
    "5 4\n",
    "2 4\n",
    "2 3"
   ]
  },
  {
   "cell_type": "code",
   "execution_count": 4,
   "metadata": {},
   "outputs": [
    {
     "name": "stdout",
     "output_type": "stream",
     "text": [
      "2\n"
     ]
    }
   ],
   "source": [
    "#세번째\n",
    "from collections import deque\n",
    "\n",
    "count = 0\n",
    "\n",
    "N,M = map(int,input().split())\n",
    "graph = [[] for _ in range(N + 1)]\n",
    "visited = [False]*(N+1)\n",
    "\n",
    "#graph 생성 \n",
    "for i in range(M):\n",
    "    n1, n2 = map(int,input().split())\n",
    "    graph[n1].append(n2)\n",
    "    graph[n2].append(n1)\n",
    "\n",
    "#bfs 함수\n",
    "def bfs(root):\n",
    "    #queue를 생성해서 root push\n",
    "    queue = deque([root])\n",
    "    #queue에 node가 있는 동안\n",
    "    while queue:\n",
    "        #맨 아래 원소 pop\n",
    "        n = queue.popleft()\n",
    "        #n의 모든 자식들에 대해서\n",
    "        for i in graph[n]:\n",
    "            #만약 자식 node가 방문하지 않았다면\n",
    "            if not visited[i]:\n",
    "                #queue에 push\n",
    "                queue.append(i)\n",
    "                #방문 표시\n",
    "                visited[i] = True\n",
    "    return 1\n",
    "\n",
    "for i in range(1,len(visited)):\n",
    "    #graph의 node가 방문하지 않았다면\n",
    "    if not visited[i]:\n",
    "        if not graph[i]:\n",
    "            count +=1\n",
    "            visited[i] = True\n",
    "        else:\n",
    "            #방문 표시\n",
    "            visited[i] = True\n",
    "            #bfs 함수 실행 횟수를 더한다\n",
    "            count += bfs(i)\n",
    "print(count)\n",
    "\n"
   ]
  },
  {
   "cell_type": "code",
   "execution_count": 31,
   "metadata": {},
   "outputs": [
    {
     "name": "stdout",
     "output_type": "stream",
     "text": [
      "[[], [2, 5], [1, 5], [4], [3, 6], [2, 1], [4]]\n",
      "2\n"
     ]
    }
   ],
   "source": [
    "# import sys\n",
    "from collections import deque\n",
    "\n",
    "# input = sys.stdin.readline\n",
    "\n",
    "def bfs(start):\n",
    "    queue = deque([start])\n",
    "    visited[start] = True\n",
    "    while queue:\n",
    "        node = queue.popleft()\n",
    "        for i in graph[node]:\n",
    "            if not visited[i]:\n",
    "                visited[i] = True\n",
    "                queue.append(i)\n",
    "\n",
    "\n",
    "N, M = map(int, input().split())\n",
    "graph = [[] for _ in range(N + 1)]\n",
    "\n",
    "for _ in range(M):\n",
    "    a, b = map(int, input().split())\n",
    "    graph[a].append(b)\n",
    "    graph[b].append(a)\n",
    "print(graph )\n",
    "# 방문처리\n",
    "visited = [False] * (1 + N)\n",
    "count = 0  # 컴포넌트 그래프 개수 저장\n",
    "\n",
    "# 1~N번 노드를 각각돌면서\n",
    "for i in range(1, N + 1):\n",
    "    if not visited[i]:  # 만약 방문하지 않았다면\n",
    "        if not graph[i]:  # 만약 그래프가 비어있다면\n",
    "            count += 1  # 개수 1개 추가\n",
    "            visited[i] = True  # 방문 처리\n",
    "        else:  # 만약 그래프가 비어있지 않다면(어느 점과 연결된 점이 있다면)\n",
    "            bfs(i)  # 해당 i를 시작노드로 bfs를 돈다.\n",
    "            count += 1  # 연결요소 를 +1개 해준다.\n",
    "\n",
    "print(count)"
   ]
  },
  {
   "cell_type": "markdown",
   "metadata": {},
   "source": [
    "## 백준 - 2667번 단지번호붙이기 <a class=\"anchor\" id=\"chapter3-6\"></a>\n",
    "https://www.acmicpc.net/problem/2667\n",
    "\n",
    "<input>\n",
    "7\n",
    "0110100\n",
    "0110101\n",
    "1110101\n",
    "0000111\n",
    "0100000\n",
    "0111110\n",
    "0111000\n",
    "\n",
    "<output>\n",
    "3\n",
    "7\n",
    "8\n",
    "9"
   ]
  },
  {
   "cell_type": "code",
   "execution_count": 40,
   "metadata": {},
   "outputs": [
    {
     "name": "stdout",
     "output_type": "stream",
     "text": [
      "3\n",
      "7\n",
      "8\n",
      "9\n"
     ]
    }
   ],
   "source": [
    "from collections import deque\n",
    "\n",
    "def bfs(root):\n",
    "    #단지 내의 apt 수 저장하는 변수\n",
    "    cnt = 1\n",
    "    queue = deque([root])\n",
    "    #queue에 원소가 있는 동안\n",
    "    while queue:\n",
    "        #x,y pop\n",
    "        x,y = queue.popleft()\n",
    "        #(x,y)를 기준으로 상,하,좌,우 확인 \n",
    "        for i in range(4):\n",
    "            nx = x + dx[i]\n",
    "            ny = y + dy[i]\n",
    "            #만약 nx,ny가 범위값 밖에 있다면 continue\n",
    "            if nx < 0 or ny < 0 or nx >= n or ny >= n:\n",
    "                continue\n",
    "            #graph(nx,ny)값이 1이고 아직 방문하지 않았다면\n",
    "            if graph[nx][ny]==1 and not visited[nx][ny]:\n",
    "                #방문 표시\n",
    "                visited[nx][ny] = True\n",
    "                #stack에 표시\n",
    "                queue.append((nx,ny))\n",
    "                #apt 수 증가\n",
    "                cnt += 1\n",
    "\n",
    "    return cnt\n",
    "\n",
    "n = int(input())\n",
    "graph,result = [],[]\n",
    "#그래프 생성\n",
    "for _ in range(n):\n",
    "    line = input()\n",
    "    graph.append([int(i) for i in line])\n",
    "#방문 표시 리스트 생성\n",
    "visited = [[False]*n for i in range(n)]\n",
    "#상하좌우 이동을 위한 dx,dy 좌표\n",
    "dx = [1, -1, 0, 0]\n",
    "dy = [0, 0, -1, 1]\n",
    "#모든 좌표에 대해서 확인 진행\n",
    "for x in range(n):\n",
    "    for y in range(n):\n",
    "        #만약 graph(x,y)값이 1이고 아직 방문하지 않았다면\n",
    "        if graph[x][y] == 1 and not visited[x][y]:\n",
    "            #방문 표시\n",
    "            visited[x][y] = True\n",
    "            #반환되는 단지 내의 apt 수를 저장\n",
    "            apt_n = bfs((x,y))\n",
    "            #result 리스트에 더함\n",
    "            result.append(apt_n)\n",
    "#오름차순으로 정렬\n",
    "result.sort()\n",
    "#총 apt 단지 수 출력\n",
    "print(len(result))\n",
    "#단지 내의 아파트 수 출력        \n",
    "print(*result, sep='\\n')"
   ]
  },
  {
   "cell_type": "markdown",
   "metadata": {},
   "source": [
    "## 프로그래머스 - 타켓넘버 <a class=\"anchor\" id=\"chapter3-7\"></a>\n",
    "numbers\t    target\treturn\n",
    "[1, 1, 1, 1, 1]\t3\t5\n",
    "[4, 1, 2, 1]\t4\t2"
   ]
  },
  {
   "cell_type": "code",
   "execution_count": 18,
   "metadata": {},
   "outputs": [
    {
     "name": "stdout",
     "output_type": "stream",
     "text": [
      "5\n"
     ]
    }
   ],
   "source": [
    "from collections import deque\n",
    "\n",
    "answer = 0\n",
    "numbers = [1, 1, 1, 1, 1]\n",
    "target = 3\n",
    "\n",
    "queue = deque([(0, 0)]) # sum, level\n",
    "\n",
    "while queue:\n",
    "    s, l = queue.popleft()\n",
    "    if l > len(numbers):\n",
    "        break\n",
    "    elif l == len(numbers) and s == target:\n",
    "        answer += 1\n",
    "    queue.append((s+numbers[l-1], l+1))\n",
    "    queue.append((s-numbers[l-1], l+1))\n",
    "\n",
    "print(answer)"
   ]
  },
  {
   "cell_type": "markdown",
   "metadata": {},
   "source": [
    "## 프로그래머스 - 네트워크 <a class=\"anchor\" id=\"chapter3-8\"></a>\n",
    "https://school.programmers.co.kr/learn/courses/30/lessons/43162\n",
    "\n",
    "n\t  computers\t                    return\n",
    "3\t[[1, 1, 0], [1, 1, 0], [0, 0, 1]]\t2\n",
    "3\t[[1, 1, 0], [1, 1, 1], [0, 1, 1]]\t1"
   ]
  },
  {
   "cell_type": "code",
   "execution_count": 26,
   "metadata": {},
   "outputs": [
    {
     "name": "stdout",
     "output_type": "stream",
     "text": [
      "1\n"
     ]
    }
   ],
   "source": [
    "from collections import deque\n",
    "\n",
    "def bfs(c):\n",
    "    queue = deque([c])\n",
    "\n",
    "    while queue:\n",
    "        r = queue.popleft()\n",
    "\n",
    "        for i in range(n):\n",
    "            if computers[r][i] == 1 and not visited[i]:\n",
    "                visited[i] = True\n",
    "                queue.append(i)\n",
    "    return 1\n",
    "\n",
    "computers = [[1, 1, 0], [1, 1, 1], [0, 1, 1]]\n",
    "n = 3\n",
    "visited = [False]*n\n",
    "count = 0\n",
    "for c in range(n):\n",
    "    if not visited[c]:\n",
    "        visited[c] = True\n",
    "        count += bfs(c)\n",
    "\n",
    "print(count)\n"
   ]
  },
  {
   "cell_type": "markdown",
   "metadata": {},
   "source": [
    "## 프로그래머스 - 게임 맵 최단거리 <a class=\"anchor\" id=\"chapter3-9\"></a>\n",
    "https://school.programmers.co.kr/learn/courses/30/lessons/1844\n",
    "\n",
    "maps\t                                                    answer\n",
    "[[1,0,1,1,1],[1,0,1,0,1],[1,0,1,1,1],[1,1,1,0,1],[0,0,0,0,1]]\t11\n",
    "[[1,0,1,1,1],[1,0,1,0,1],[1,0,1,1,1],[1,1,1,0,0],[0,0,0,0,1]]\t-1"
   ]
  },
  {
   "cell_type": "code",
   "execution_count": 58,
   "metadata": {},
   "outputs": [],
   "source": [
    "maps = [[1,0,1,1,1],[1,0,1,0,1],[1,0,1,1,1],[1,1,1,0,0],[0,0,0,0,1]]\n",
    "\n",
    "def answer(maps):\n",
    "    dx = [0,0,-1,1]\n",
    "    dy = [-1,1,0,0]\n",
    "    #m*n \n",
    "    m,n = len(maps[0]), len(maps)\n",
    "\n",
    "    queue = deque([[0,0]])\n",
    "\n",
    "    while queue:\n",
    "        x,y = queue.popleft()\n",
    "\n",
    "        for i in range(4):\n",
    "            nx = x + dx[i]\n",
    "            ny = y + dy[i]\n",
    "\n",
    "            if 0 <= nx < n and 0 <= ny < m and maps[nx][ny] == 1:\n",
    "                maps[nx][ny] = maps[x][y] + 1\n",
    "                queue.append([nx,ny])\n",
    "    \n",
    "    if maps[n-1][m-1] == 1:\n",
    "        return -1\n",
    "        \n",
    "    return maps[n-1][m-1]"
   ]
  },
  {
   "cell_type": "markdown",
   "metadata": {},
   "source": [
    "## 프로그래머스 - 단어 변환\n",
    "begin\ttarget\t            words\t                        return\n",
    "\"hit\"\t\"cog\"\t[\"hot\", \"dot\", \"dog\", \"lot\", \"log\", \"cog\"]\t4\n",
    "\"hit\"\t\"cog\"\t[\"hot\", \"dot\", \"dog\", \"lot\", \"log\"]\t        0"
   ]
  },
  {
   "cell_type": "code",
   "execution_count": 154,
   "metadata": {},
   "outputs": [],
   "source": [
    "begin = 'hit'\n",
    "target = 'cog'\n",
    "words = [\"hot\", \"dot\", \"dog\", \"lot\", \"log\", \"cog\"]\n",
    "\n",
    "begin = \"aab\" \n",
    "target = \"aba\" \n",
    "words = [\"abb\", \"aba\"]"
   ]
  },
  {
   "cell_type": "code",
   "execution_count": null,
   "metadata": {},
   "outputs": [],
   "source": [
    "from collections import deque\n",
    "\n",
    "def solution(begin, target, words):\n",
    "    if target not in words:\n",
    "        return 0\n",
    "    \n",
    "    queue = deque([[begin,0]])\n",
    "\n",
    "    while queue:\n",
    "        n, cnt = queue.popleft()\n",
    "\n",
    "        if n == target:\n",
    "            return cnt\n",
    "\n",
    "        for i in range(len(words)):\n",
    "            diff = 0\n",
    "            word = words[i]\n",
    "            for j in range(len(n)):\n",
    "                if n[j] != word[j]:\n",
    "                    diff += 1\n",
    "            if diff == 1:\n",
    "                queue.append([word,cnt+1])\n",
    "    return 0\n",
    "\n",
    "\n",
    "solution(begin,target,words)"
   ]
  },
  {
   "cell_type": "code",
   "execution_count": null,
   "metadata": {},
   "outputs": [],
   "source": [
    "from collections import deque\n",
    "\n",
    "\n",
    "def get_adjacent(current, words):\n",
    "    for word in words:\n",
    "        if len(current) != len(word):\n",
    "            continue\n",
    "\n",
    "        count = 0\n",
    "        for c, w in zip(current, word):\n",
    "            if c != w:\n",
    "                count += 1\n",
    "\n",
    "        if count == 1:\n",
    "            yield word\n",
    "\n",
    "\n",
    "def solution(begin, target, words):\n",
    "    dist = {begin: 0}\n",
    "    queue = deque([begin])\n",
    "\n",
    "    while queue:\n",
    "        current = queue.popleft()\n",
    "\n",
    "        for next_word in get_adjacent(current, words):\n",
    "            if next_word not in dist:\n",
    "                dist[next_word] = dist[current] + 1\n",
    "                queue.append(next_word)\n",
    "\n",
    "    return dist.get(target, 0)"
   ]
  },
  {
   "cell_type": "markdown",
   "metadata": {},
   "source": [
    "rectangle\t                            characterX\tcharacterY\titemX\titemY\tresult\n",
    "[[1,1,7,4],[3,2,5,5],[4,3,6,9],[2,6,8,8]]\t1\t        3\t    7  \t    8\t    17\n",
    "[[1,1,8,4],[2,2,4,9],[3,6,9,8],[6,3,7,7]]\t9\t        7\t    6\t    1\t    11"
   ]
  },
  {
   "cell_type": "code",
   "execution_count": null,
   "metadata": {},
   "outputs": [],
   "source": [
    "https://youngyin.tistory.com/161"
   ]
  },
  {
   "cell_type": "code",
   "execution_count": 23,
   "metadata": {},
   "outputs": [
    {
     "name": "stdout",
     "output_type": "stream",
     "text": [
      "['.', '.', '.', '.', '.', '.', '.', '.', '.', '.', '.', '.', '.', '.', '.', '.', '.', '.', '.', '.']\n",
      "['.', '.', '.', '.', '.', '.', '.', '.', '.', '.', '.', '.', '.', '.', '.', '.', '.', '.', '.', '.']\n",
      "['.', '.', '.', '.', '.', '.', '.', '.', '.', '.', '.', '.', '.', '.', '.', '.', '.', '.', '.', '.']\n",
      "['.', '.', '.', '.', '.', '.', '.', '.', '.', '.', '.', '.', '.', '.', '.', '.', '.', '.', '.', '.']\n",
      "['.', '.', '.', '.', '.', '.', '.', '.', '.', '.', '.', '.', '.', '.', '.', '.', '.', '.', '.', '.']\n",
      "['.', '.', '.', '.', '.', '.', '.', '.', '.', '.', '.', '.', '.', '.', '.', '.', '.', '.', '.', '.']\n",
      "['.', '.', '.', '.', '.', '.', '.', '.', '.', '.', '.', '.', '.', '.', '.', '.', '.', '.', '.', '.']\n",
      "['.', '.', '.', '.', '.', '.', '.', '.', '.', '.', '.', '.', '.', '.', '.', '.', '.', '.', '.', '.']\n",
      "['.', '.', '.', '.', '.', '.', '.', '.', '.', '.', '.', '.', '.', '.', '.', '.', '.', '.', '.', '.']\n",
      "['.', '.', '.', '.', '.', '.', '.', '.', '.', '.', '.', '.', '.', '.', '.', '.', '.', '.', '.', '.']\n",
      "['.', '.', '.', '.', '.', '.', '.', '.', '.', '.', '.', '.', '.', '.', '.', '.', '.', '.', '.', '.']\n",
      "['.', '.', '.', '.', '.', '.', '.', '.', '.', '.', '.', '.', '.', '.', '.', '.', '.', '.', '.', '.']\n",
      "['.', '.', '.', '.', '.', '.', '.', '.', '.', '.', '.', '.', '.', '.', '.', '.', '.', '.', '.', '.']\n",
      "['.', '.', '.', '.', '.', '.', '.', '.', '.', '.', '.', '.', '.', '.', '.', '.', '.', '.', '.', '.']\n",
      "['.', '.', '.', '.', '.', '.', '.', '.', '.', '.', '.', '.', '.', '.', '.', '.', '.', '.', '.', '.']\n",
      "['.', '.', '.', '.', '.', '.', '.', '.', '.', '.', '.', '.', '.', '.', '.', '.', '.', '.', '.', '.']\n",
      "['.', '.', '.', '.', '.', '.', '.', '.', '.', '.', '.', '.', '.', '.', '.', '.', '.', '.', '.', '.']\n",
      "['.', '.', '.', '.', '.', '.', '.', '.', '.', '.', '.', '.', '.', '.', '.', '.', '.', '.', '.', '.']\n",
      "['.', '.', '.', '.', '.', '.', '.', '.', '.', '.', '.', '.', '.', '.', '.', '.', '.', '.', '.', '.']\n",
      "['.', '.', '.', '.', '.', '.', '.', '.', '.', '.', '.', '.', '.', '.', '.', '.', '.', '.', '.', '.']\n"
     ]
    }
   ],
   "source": [
    "import pprint\n",
    "rectangle = [[1,1,8,4],[2,2,4,9],[3,6,9,8],[6,3,7,7]]\n",
    "n = 20\n",
    "\n",
    "graph = [['.']*n for i in range(n)]\n",
    "print(*graph, sep='\\n')"
   ]
  },
  {
   "cell_type": "code",
   "execution_count": 24,
   "metadata": {},
   "outputs": [
    {
     "name": "stdout",
     "output_type": "stream",
     "text": [
      "['.', '.', '.', '.', '.', '.', '.', '.', '.', '.', '.', '.', '.', '.', '.', '.', '.', '.', '.', '.']\n",
      "['.', '.', '.', '.', '.', '.', '.', '.', '.', '.', '.', '.', '.', '.', '.', '.', '.', '.', '.', '.']\n",
      "['.', '.', '1', '1', '1', '1', '1', '1', '1', '1', '1', '1', '1', '1', '1', '1', '1', '.', '.', '.']\n",
      "['.', '.', '1', '1', '1', '1', '1', '1', '1', '1', '1', '1', '1', '1', '1', '1', '1', '.', '.', '.']\n",
      "['.', '.', '1', '1', '1', '1', '1', '1', '1', '1', '1', '1', '1', '1', '1', '1', '1', '.', '.', '.']\n",
      "['.', '.', '1', '1', '1', '1', '1', '1', '1', '1', '1', '1', '1', '1', '1', '1', '1', '.', '.', '.']\n",
      "['.', '.', '1', '1', '1', '1', '1', '1', '1', '1', '1', '1', '1', '1', '1', '1', '1', '.', '.', '.']\n",
      "['.', '.', '1', '1', '1', '1', '1', '1', '1', '1', '1', '1', '1', '1', '1', '1', '1', '.', '.', '.']\n",
      "['.', '.', '1', '1', '1', '1', '1', '1', '1', '1', '1', '1', '1', '1', '1', '1', '1', '.', '.', '.']\n",
      "['.', '.', '.', '.', '1', '1', '1', '1', '1', '.', '.', '.', '1', '1', '1', '.', '.', '.', '.', '.']\n",
      "['.', '.', '.', '.', '1', '1', '1', '1', '1', '.', '.', '.', '1', '1', '1', '.', '.', '.', '.', '.']\n",
      "['.', '.', '.', '.', '1', '1', '1', '1', '1', '.', '.', '.', '1', '1', '1', '.', '.', '.', '.', '.']\n",
      "['.', '.', '.', '.', '1', '1', '1', '1', '1', '1', '1', '1', '1', '1', '1', '1', '1', '1', '1', '.']\n",
      "['.', '.', '.', '.', '1', '1', '1', '1', '1', '1', '1', '1', '1', '1', '1', '1', '1', '1', '1', '.']\n",
      "['.', '.', '.', '.', '1', '1', '1', '1', '1', '1', '1', '1', '1', '1', '1', '1', '1', '1', '1', '.']\n",
      "['.', '.', '.', '.', '1', '1', '1', '1', '1', '1', '1', '1', '1', '1', '1', '1', '1', '1', '1', '.']\n",
      "['.', '.', '.', '.', '1', '1', '1', '1', '1', '1', '1', '1', '1', '1', '1', '1', '1', '1', '1', '.']\n",
      "['.', '.', '.', '.', '1', '1', '1', '1', '1', '.', '.', '.', '.', '.', '.', '.', '.', '.', '.', '.']\n",
      "['.', '.', '.', '.', '1', '1', '1', '1', '1', '.', '.', '.', '.', '.', '.', '.', '.', '.', '.', '.']\n",
      "['.', '.', '.', '.', '.', '.', '.', '.', '.', '.', '.', '.', '.', '.', '.', '.', '.', '.', '.', '.']\n"
     ]
    }
   ],
   "source": [
    "import pprint\n",
    "n = [1,1,8,4]\n",
    "\n",
    "# 사각형 1로 채우기 (테두리+내부)\n",
    "for c1, r1, c2, r2 in rectangle : \n",
    "    for i in range(2*r1, 2*r2+1) :\n",
    "        for j in range(2*c1, 2*c2+1) : \n",
    "            graph[i][j] = '1'\n",
    "    \n",
    "print(*graph, sep='\\n')"
   ]
  },
  {
   "cell_type": "code",
   "execution_count": 25,
   "metadata": {},
   "outputs": [
    {
     "name": "stdout",
     "output_type": "stream",
     "text": [
      "['.', '.', '.', '.', '.', '.', '.', '.', '.', '.', '.', '.', '.', '.', '.', '.', '.', '.', '.', '.']\n",
      "['.', '.', '.', '.', '.', '.', '.', '.', '.', '.', '.', '.', '.', '.', '.', '.', '.', '.', '.', '.']\n",
      "['.', '.', '1', '1', '1', '1', '1', '1', '1', '1', '1', '1', '1', '1', '1', '1', '1', '.', '.', '.']\n",
      "['.', '.', '1', 'O', 'O', 'O', 'O', 'O', 'O', 'O', 'O', 'O', 'O', 'O', 'O', 'O', '1', '.', '.', '.']\n",
      "['.', '.', '1', 'O', 'O', 'O', 'O', 'O', 'O', 'O', 'O', 'O', 'O', 'O', 'O', 'O', '1', '.', '.', '.']\n",
      "['.', '.', '1', 'O', 'O', 'O', 'O', 'O', 'O', 'O', 'O', 'O', 'O', 'O', 'O', 'O', '1', '.', '.', '.']\n",
      "['.', '.', '1', 'O', 'O', 'O', 'O', 'O', 'O', 'O', 'O', 'O', 'O', 'O', 'O', 'O', '1', '.', '.', '.']\n",
      "['.', '.', '1', 'O', 'O', 'O', 'O', 'O', 'O', 'O', 'O', 'O', 'O', 'O', 'O', 'O', '1', '.', '.', '.']\n",
      "['.', '.', '1', '1', '1', 'O', 'O', 'O', '1', '1', '1', '1', '1', 'O', '1', '1', '1', '.', '.', '.']\n",
      "['.', '.', '.', '.', '1', 'O', 'O', 'O', '1', '.', '.', '.', '1', 'O', '1', '.', '.', '.', '.', '.']\n",
      "['.', '.', '.', '.', '1', 'O', 'O', 'O', '1', '.', '.', '.', '1', 'O', '1', '.', '.', '.', '.', '.']\n",
      "['.', '.', '.', '.', '1', 'O', 'O', 'O', '1', '.', '.', '.', '1', 'O', '1', '.', '.', '.', '.', '.']\n",
      "['.', '.', '.', '.', '1', 'O', 'O', 'O', '1', '1', '1', '1', '1', 'O', '1', '1', '1', '1', '1', '.']\n",
      "['.', '.', '.', '.', '1', 'O', 'O', 'O', 'O', 'O', 'O', 'O', 'O', 'O', 'O', 'O', 'O', 'O', '1', '.']\n",
      "['.', '.', '.', '.', '1', 'O', 'O', 'O', 'O', 'O', 'O', 'O', 'O', 'O', 'O', 'O', 'O', 'O', '1', '.']\n",
      "['.', '.', '.', '.', '1', 'O', 'O', 'O', 'O', 'O', 'O', 'O', 'O', 'O', 'O', 'O', 'O', 'O', '1', '.']\n",
      "['.', '.', '.', '.', '1', 'O', 'O', 'O', '1', '1', '1', '1', '1', '1', '1', '1', '1', '1', '1', '.']\n",
      "['.', '.', '.', '.', '1', 'O', 'O', 'O', '1', '.', '.', '.', '.', '.', '.', '.', '.', '.', '.', '.']\n",
      "['.', '.', '.', '.', '1', '1', '1', '1', '1', '.', '.', '.', '.', '.', '.', '.', '.', '.', '.', '.']\n",
      "['.', '.', '.', '.', '.', '.', '.', '.', '.', '.', '.', '.', '.', '.', '.', '.', '.', '.', '.', '.']\n"
     ]
    }
   ],
   "source": [
    "# 사각형 테두리 0으로 채우기 \n",
    "for c1, r1, c2, r2 in rectangle :             \n",
    "    for i in range(2*r1+1, 2*r2) : \n",
    "        for j in range(2*c1+1, 2*c2) :  \n",
    "            graph[i][j] = 'O'\n",
    "print(*graph, sep='\\n')"
   ]
  },
  {
   "cell_type": "code",
   "execution_count": null,
   "metadata": {},
   "outputs": [],
   "source": []
  },
  {
   "cell_type": "code",
   "execution_count": null,
   "metadata": {},
   "outputs": [],
   "source": []
  }
 ],
 "metadata": {
  "kernelspec": {
   "display_name": "Python 3.8.9 64-bit",
   "language": "python",
   "name": "python3"
  },
  "language_info": {
   "codemirror_mode": {
    "name": "ipython",
    "version": 3
   },
   "file_extension": ".py",
   "mimetype": "text/x-python",
   "name": "python",
   "nbconvert_exporter": "python",
   "pygments_lexer": "ipython3",
   "version": "3.8.9"
  },
  "orig_nbformat": 4,
  "vscode": {
   "interpreter": {
    "hash": "31f2aee4e71d21fbe5cf8b01ff0e069b9275f58929596ceb00d14d90e3e16cd6"
   }
  }
 },
 "nbformat": 4,
 "nbformat_minor": 2
}
